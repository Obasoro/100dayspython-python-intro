{
 "cells": [
  {
   "cell_type": "markdown",
   "metadata": {},
   "source": [
    "# Using BeautifulSoup for webscrapping "
   ]
  },
  {
   "cell_type": "code",
   "execution_count": 2,
   "metadata": {},
   "outputs": [],
   "source": [
    "import pandas as pd\n",
    "import numpy as np\n",
    "import matplotlib.pyplot as plt\n",
    "from bs4 import BeautifulSoup\n",
    "from pandas import read_html"
   ]
  },
  {
   "cell_type": "code",
   "execution_count": null,
   "metadata": {},
   "outputs": [],
   "source": [
    "covenant_nation = retrieve_html"
   ]
  },
  {
   "cell_type": "code",
   "execution_count": 4,
   "metadata": {},
   "outputs": [
    {
     "name": "stderr",
     "output_type": "stream",
     "text": [
      "UsageError: Line magic function `%retrieve` not found.\n"
     ]
    }
   ],
   "source": [
    "%retrieve"
   ]
  },
  {
   "cell_type": "code",
   "execution_count": 9,
   "metadata": {},
   "outputs": [
    {
     "data": {
      "text/plain": [
       "'\\npandas - a powerful data analysis and manipulation library for Python\\n=====================================================================\\n\\n**pandas** is a Python package providing fast, flexible, and expressive data\\nstructures designed to make working with \"relational\" or \"labeled\" data both\\neasy and intuitive. It aims to be the fundamental high-level building block for\\ndoing practical, **real world** data analysis in Python. Additionally, it has\\nthe broader goal of becoming **the most powerful and flexible open source data\\nanalysis / manipulation tool available in any language**. It is already well on\\nits way toward this goal.\\n\\nMain Features\\n-------------\\nHere are just a few of the things that pandas does well:\\n\\n  - Easy handling of missing data in floating point as well as non-floating\\n    point data.\\n  - Size mutability: columns can be inserted and deleted from DataFrame and\\n    higher dimensional objects\\n  - Automatic and explicit data alignment: objects can be explicitly aligned\\n    to a set of labels, or the user can simply ignore the labels and let\\n    `Series`, `DataFrame`, etc. automatically align the data for you in\\n    computations.\\n  - Powerful, flexible group by functionality to perform split-apply-combine\\n    operations on data sets, for both aggregating and transforming data.\\n  - Make it easy to convert ragged, differently-indexed data in other Python\\n    and NumPy data structures into DataFrame objects.\\n  - Intelligent label-based slicing, fancy indexing, and subsetting of large\\n    data sets.\\n  - Intuitive merging and joining data sets.\\n  - Flexible reshaping and pivoting of data sets.\\n  - Hierarchical labeling of axes (possible to have multiple labels per tick).\\n  - Robust IO tools for loading data from flat files (CSV and delimited),\\n    Excel files, databases, and saving/loading data from the ultrafast HDF5\\n    format.\\n  - Time series-specific functionality: date range generation and frequency\\n    conversion, moving window statistics, moving window linear regressions,\\n    date shifting and lagging, etc.\\n'"
      ]
     },
     "execution_count": 9,
     "metadata": {},
     "output_type": "execute_result"
    }
   ],
   "source": [
    "pd.__doc__"
   ]
  },
  {
   "cell_type": "code",
   "execution_count": 10,
   "metadata": {},
   "outputs": [],
   "source": [
    "import requests"
   ]
  },
  {
   "cell_type": "code",
   "execution_count": 11,
   "metadata": {},
   "outputs": [],
   "source": [
    "test_snippet = \"\"\"<?xml version=\"1.0\" encoding=\"UTF-8\"?>\n",
    "<!DOCTYPE xml> <!-- not actually valid xml-->\n",
    "<!-- This is a comment -->\n",
    "<note date=\"8/31/12\">\n",
    "    <to>Tove</to>\n",
    "    <from>Jani</from>\n",
    "    <heading type=\"Reminder\"/>\n",
    "    <body>Don't forget me this weekend!</body>\n",
    "    <!-- This is a multiline comment,\n",
    "         which take a bit of care to parse -->\n",
    "</note>\n",
    "\"\"\""
   ]
  },
  {
   "cell_type": "code",
   "execution_count": null,
   "metadata": {},
   "outputs": [],
   "source": [
    "tag_open = re.compile(\"\")\n",
    "tag_close = ...\n",
    "tag_open_close = ...\n",
    "\n",
    "comment = ...\n",
    "xml_prolog = ...\n",
    "html_prolog = ...\n"
   ]
  },
  {
   "cell_type": "code",
   "execution_count": 14,
   "metadata": {},
   "outputs": [
    {
     "ename": "NameError",
     "evalue": "name 'tag_open' is not defined",
     "output_type": "error",
     "traceback": [
      "\u001b[1;31m---------------------------------------------------------------------------\u001b[0m",
      "\u001b[1;31mNameError\u001b[0m                                 Traceback (most recent call last)",
      "\u001b[1;32m<ipython-input-14-e9f18aaa0d78>\u001b[0m in \u001b[0;36m<module>\u001b[1;34m\u001b[0m\n\u001b[1;32m----> 1\u001b[1;33m \u001b[0mprint\u001b[0m\u001b[1;33m(\u001b[0m\u001b[1;34m\"tag_open: \"\u001b[0m\u001b[1;33m,\u001b[0m \u001b[0mtag_open\u001b[0m\u001b[1;33m.\u001b[0m\u001b[0mfindall\u001b[0m\u001b[1;33m(\u001b[0m\u001b[0mtest_snippet\u001b[0m\u001b[1;33m)\u001b[0m\u001b[1;33m)\u001b[0m\u001b[1;33m\u001b[0m\u001b[1;33m\u001b[0m\u001b[0m\n\u001b[0m",
      "\u001b[1;31mNameError\u001b[0m: name 'tag_open' is not defined"
     ]
    }
   ],
   "source": [
    "print(\"tag_open: \", tag_open.findall(test_snippet))"
   ]
  },
  {
   "cell_type": "code",
   "execution_count": 15,
   "metadata": {},
   "outputs": [
    {
     "ename": "ConnectionError",
     "evalue": "('Connection aborted.', TimeoutError(10060, 'A connection attempt failed because the connected party did not properly respond after a period of time, or established connection failed because connected host has failed to respond', None, 10060, None))",
     "output_type": "error",
     "traceback": [
      "\u001b[1;31m---------------------------------------------------------------------------\u001b[0m",
      "\u001b[1;31mTimeoutError\u001b[0m                              Traceback (most recent call last)",
      "\u001b[1;32m~\\AppData\\Local\\Continuum\\anaconda3\\lib\\site-packages\\urllib3\\connectionpool.py\u001b[0m in \u001b[0;36murlopen\u001b[1;34m(self, method, url, body, headers, retries, redirect, assert_same_host, timeout, pool_timeout, release_conn, chunked, body_pos, **response_kw)\u001b[0m\n\u001b[0;32m    599\u001b[0m                                                   \u001b[0mbody\u001b[0m\u001b[1;33m=\u001b[0m\u001b[0mbody\u001b[0m\u001b[1;33m,\u001b[0m \u001b[0mheaders\u001b[0m\u001b[1;33m=\u001b[0m\u001b[0mheaders\u001b[0m\u001b[1;33m,\u001b[0m\u001b[1;33m\u001b[0m\u001b[1;33m\u001b[0m\u001b[0m\n\u001b[1;32m--> 600\u001b[1;33m                                                   chunked=chunked)\n\u001b[0m\u001b[0;32m    601\u001b[0m \u001b[1;33m\u001b[0m\u001b[0m\n",
      "\u001b[1;32m~\\AppData\\Local\\Continuum\\anaconda3\\lib\\site-packages\\urllib3\\connectionpool.py\u001b[0m in \u001b[0;36m_make_request\u001b[1;34m(self, conn, method, url, timeout, chunked, **httplib_request_kw)\u001b[0m\n\u001b[0;32m    383\u001b[0m                     \u001b[1;31m# otherwise it looks like a programming error was the cause.\u001b[0m\u001b[1;33m\u001b[0m\u001b[1;33m\u001b[0m\u001b[1;33m\u001b[0m\u001b[0m\n\u001b[1;32m--> 384\u001b[1;33m                     \u001b[0msix\u001b[0m\u001b[1;33m.\u001b[0m\u001b[0mraise_from\u001b[0m\u001b[1;33m(\u001b[0m\u001b[0me\u001b[0m\u001b[1;33m,\u001b[0m \u001b[1;32mNone\u001b[0m\u001b[1;33m)\u001b[0m\u001b[1;33m\u001b[0m\u001b[1;33m\u001b[0m\u001b[0m\n\u001b[0m\u001b[0;32m    385\u001b[0m         \u001b[1;32mexcept\u001b[0m \u001b[1;33m(\u001b[0m\u001b[0mSocketTimeout\u001b[0m\u001b[1;33m,\u001b[0m \u001b[0mBaseSSLError\u001b[0m\u001b[1;33m,\u001b[0m \u001b[0mSocketError\u001b[0m\u001b[1;33m)\u001b[0m \u001b[1;32mas\u001b[0m \u001b[0me\u001b[0m\u001b[1;33m:\u001b[0m\u001b[1;33m\u001b[0m\u001b[1;33m\u001b[0m\u001b[0m\n",
      "\u001b[1;32m~\\AppData\\Local\\Continuum\\anaconda3\\lib\\site-packages\\urllib3\\packages\\six.py\u001b[0m in \u001b[0;36mraise_from\u001b[1;34m(value, from_value)\u001b[0m\n",
      "\u001b[1;32m~\\AppData\\Local\\Continuum\\anaconda3\\lib\\site-packages\\urllib3\\connectionpool.py\u001b[0m in \u001b[0;36m_make_request\u001b[1;34m(self, conn, method, url, timeout, chunked, **httplib_request_kw)\u001b[0m\n\u001b[0;32m    379\u001b[0m                 \u001b[1;32mtry\u001b[0m\u001b[1;33m:\u001b[0m\u001b[1;33m\u001b[0m\u001b[1;33m\u001b[0m\u001b[0m\n\u001b[1;32m--> 380\u001b[1;33m                     \u001b[0mhttplib_response\u001b[0m \u001b[1;33m=\u001b[0m \u001b[0mconn\u001b[0m\u001b[1;33m.\u001b[0m\u001b[0mgetresponse\u001b[0m\u001b[1;33m(\u001b[0m\u001b[1;33m)\u001b[0m\u001b[1;33m\u001b[0m\u001b[1;33m\u001b[0m\u001b[0m\n\u001b[0m\u001b[0;32m    381\u001b[0m                 \u001b[1;32mexcept\u001b[0m \u001b[0mException\u001b[0m \u001b[1;32mas\u001b[0m \u001b[0me\u001b[0m\u001b[1;33m:\u001b[0m\u001b[1;33m\u001b[0m\u001b[1;33m\u001b[0m\u001b[0m\n",
      "\u001b[1;32m~\\AppData\\Local\\Continuum\\anaconda3\\lib\\http\\client.py\u001b[0m in \u001b[0;36mgetresponse\u001b[1;34m(self)\u001b[0m\n\u001b[0;32m   1320\u001b[0m             \u001b[1;32mtry\u001b[0m\u001b[1;33m:\u001b[0m\u001b[1;33m\u001b[0m\u001b[1;33m\u001b[0m\u001b[0m\n\u001b[1;32m-> 1321\u001b[1;33m                 \u001b[0mresponse\u001b[0m\u001b[1;33m.\u001b[0m\u001b[0mbegin\u001b[0m\u001b[1;33m(\u001b[0m\u001b[1;33m)\u001b[0m\u001b[1;33m\u001b[0m\u001b[1;33m\u001b[0m\u001b[0m\n\u001b[0m\u001b[0;32m   1322\u001b[0m             \u001b[1;32mexcept\u001b[0m \u001b[0mConnectionError\u001b[0m\u001b[1;33m:\u001b[0m\u001b[1;33m\u001b[0m\u001b[1;33m\u001b[0m\u001b[0m\n",
      "\u001b[1;32m~\\AppData\\Local\\Continuum\\anaconda3\\lib\\http\\client.py\u001b[0m in \u001b[0;36mbegin\u001b[1;34m(self)\u001b[0m\n\u001b[0;32m    295\u001b[0m         \u001b[1;32mwhile\u001b[0m \u001b[1;32mTrue\u001b[0m\u001b[1;33m:\u001b[0m\u001b[1;33m\u001b[0m\u001b[1;33m\u001b[0m\u001b[0m\n\u001b[1;32m--> 296\u001b[1;33m             \u001b[0mversion\u001b[0m\u001b[1;33m,\u001b[0m \u001b[0mstatus\u001b[0m\u001b[1;33m,\u001b[0m \u001b[0mreason\u001b[0m \u001b[1;33m=\u001b[0m \u001b[0mself\u001b[0m\u001b[1;33m.\u001b[0m\u001b[0m_read_status\u001b[0m\u001b[1;33m(\u001b[0m\u001b[1;33m)\u001b[0m\u001b[1;33m\u001b[0m\u001b[1;33m\u001b[0m\u001b[0m\n\u001b[0m\u001b[0;32m    297\u001b[0m             \u001b[1;32mif\u001b[0m \u001b[0mstatus\u001b[0m \u001b[1;33m!=\u001b[0m \u001b[0mCONTINUE\u001b[0m\u001b[1;33m:\u001b[0m\u001b[1;33m\u001b[0m\u001b[1;33m\u001b[0m\u001b[0m\n",
      "\u001b[1;32m~\\AppData\\Local\\Continuum\\anaconda3\\lib\\http\\client.py\u001b[0m in \u001b[0;36m_read_status\u001b[1;34m(self)\u001b[0m\n\u001b[0;32m    256\u001b[0m     \u001b[1;32mdef\u001b[0m \u001b[0m_read_status\u001b[0m\u001b[1;33m(\u001b[0m\u001b[0mself\u001b[0m\u001b[1;33m)\u001b[0m\u001b[1;33m:\u001b[0m\u001b[1;33m\u001b[0m\u001b[1;33m\u001b[0m\u001b[0m\n\u001b[1;32m--> 257\u001b[1;33m         \u001b[0mline\u001b[0m \u001b[1;33m=\u001b[0m \u001b[0mstr\u001b[0m\u001b[1;33m(\u001b[0m\u001b[0mself\u001b[0m\u001b[1;33m.\u001b[0m\u001b[0mfp\u001b[0m\u001b[1;33m.\u001b[0m\u001b[0mreadline\u001b[0m\u001b[1;33m(\u001b[0m\u001b[0m_MAXLINE\u001b[0m \u001b[1;33m+\u001b[0m \u001b[1;36m1\u001b[0m\u001b[1;33m)\u001b[0m\u001b[1;33m,\u001b[0m \u001b[1;34m\"iso-8859-1\"\u001b[0m\u001b[1;33m)\u001b[0m\u001b[1;33m\u001b[0m\u001b[1;33m\u001b[0m\u001b[0m\n\u001b[0m\u001b[0;32m    258\u001b[0m         \u001b[1;32mif\u001b[0m \u001b[0mlen\u001b[0m\u001b[1;33m(\u001b[0m\u001b[0mline\u001b[0m\u001b[1;33m)\u001b[0m \u001b[1;33m>\u001b[0m \u001b[0m_MAXLINE\u001b[0m\u001b[1;33m:\u001b[0m\u001b[1;33m\u001b[0m\u001b[1;33m\u001b[0m\u001b[0m\n",
      "\u001b[1;32m~\\AppData\\Local\\Continuum\\anaconda3\\lib\\socket.py\u001b[0m in \u001b[0;36mreadinto\u001b[1;34m(self, b)\u001b[0m\n\u001b[0;32m    588\u001b[0m             \u001b[1;32mtry\u001b[0m\u001b[1;33m:\u001b[0m\u001b[1;33m\u001b[0m\u001b[1;33m\u001b[0m\u001b[0m\n\u001b[1;32m--> 589\u001b[1;33m                 \u001b[1;32mreturn\u001b[0m \u001b[0mself\u001b[0m\u001b[1;33m.\u001b[0m\u001b[0m_sock\u001b[0m\u001b[1;33m.\u001b[0m\u001b[0mrecv_into\u001b[0m\u001b[1;33m(\u001b[0m\u001b[0mb\u001b[0m\u001b[1;33m)\u001b[0m\u001b[1;33m\u001b[0m\u001b[1;33m\u001b[0m\u001b[0m\n\u001b[0m\u001b[0;32m    590\u001b[0m             \u001b[1;32mexcept\u001b[0m \u001b[0mtimeout\u001b[0m\u001b[1;33m:\u001b[0m\u001b[1;33m\u001b[0m\u001b[1;33m\u001b[0m\u001b[0m\n",
      "\u001b[1;31mTimeoutError\u001b[0m: [WinError 10060] A connection attempt failed because the connected party did not properly respond after a period of time, or established connection failed because connected host has failed to respond",
      "\nDuring handling of the above exception, another exception occurred:\n",
      "\u001b[1;31mProtocolError\u001b[0m                             Traceback (most recent call last)",
      "\u001b[1;32m~\\AppData\\Local\\Continuum\\anaconda3\\lib\\site-packages\\requests\\adapters.py\u001b[0m in \u001b[0;36msend\u001b[1;34m(self, request, stream, timeout, verify, cert, proxies)\u001b[0m\n\u001b[0;32m    448\u001b[0m                     \u001b[0mretries\u001b[0m\u001b[1;33m=\u001b[0m\u001b[0mself\u001b[0m\u001b[1;33m.\u001b[0m\u001b[0mmax_retries\u001b[0m\u001b[1;33m,\u001b[0m\u001b[1;33m\u001b[0m\u001b[1;33m\u001b[0m\u001b[0m\n\u001b[1;32m--> 449\u001b[1;33m                     \u001b[0mtimeout\u001b[0m\u001b[1;33m=\u001b[0m\u001b[0mtimeout\u001b[0m\u001b[1;33m\u001b[0m\u001b[1;33m\u001b[0m\u001b[0m\n\u001b[0m\u001b[0;32m    450\u001b[0m                 )\n",
      "\u001b[1;32m~\\AppData\\Local\\Continuum\\anaconda3\\lib\\site-packages\\urllib3\\connectionpool.py\u001b[0m in \u001b[0;36murlopen\u001b[1;34m(self, method, url, body, headers, retries, redirect, assert_same_host, timeout, pool_timeout, release_conn, chunked, body_pos, **response_kw)\u001b[0m\n\u001b[0;32m    637\u001b[0m             retries = retries.increment(method, url, error=e, _pool=self,\n\u001b[1;32m--> 638\u001b[1;33m                                         _stacktrace=sys.exc_info()[2])\n\u001b[0m\u001b[0;32m    639\u001b[0m             \u001b[0mretries\u001b[0m\u001b[1;33m.\u001b[0m\u001b[0msleep\u001b[0m\u001b[1;33m(\u001b[0m\u001b[1;33m)\u001b[0m\u001b[1;33m\u001b[0m\u001b[1;33m\u001b[0m\u001b[0m\n",
      "\u001b[1;32m~\\AppData\\Local\\Continuum\\anaconda3\\lib\\site-packages\\urllib3\\util\\retry.py\u001b[0m in \u001b[0;36mincrement\u001b[1;34m(self, method, url, response, error, _pool, _stacktrace)\u001b[0m\n\u001b[0;32m    366\u001b[0m             \u001b[1;32mif\u001b[0m \u001b[0mread\u001b[0m \u001b[1;32mis\u001b[0m \u001b[1;32mFalse\u001b[0m \u001b[1;32mor\u001b[0m \u001b[1;32mnot\u001b[0m \u001b[0mself\u001b[0m\u001b[1;33m.\u001b[0m\u001b[0m_is_method_retryable\u001b[0m\u001b[1;33m(\u001b[0m\u001b[0mmethod\u001b[0m\u001b[1;33m)\u001b[0m\u001b[1;33m:\u001b[0m\u001b[1;33m\u001b[0m\u001b[1;33m\u001b[0m\u001b[0m\n\u001b[1;32m--> 367\u001b[1;33m                 \u001b[1;32mraise\u001b[0m \u001b[0msix\u001b[0m\u001b[1;33m.\u001b[0m\u001b[0mreraise\u001b[0m\u001b[1;33m(\u001b[0m\u001b[0mtype\u001b[0m\u001b[1;33m(\u001b[0m\u001b[0merror\u001b[0m\u001b[1;33m)\u001b[0m\u001b[1;33m,\u001b[0m \u001b[0merror\u001b[0m\u001b[1;33m,\u001b[0m \u001b[0m_stacktrace\u001b[0m\u001b[1;33m)\u001b[0m\u001b[1;33m\u001b[0m\u001b[1;33m\u001b[0m\u001b[0m\n\u001b[0m\u001b[0;32m    368\u001b[0m             \u001b[1;32melif\u001b[0m \u001b[0mread\u001b[0m \u001b[1;32mis\u001b[0m \u001b[1;32mnot\u001b[0m \u001b[1;32mNone\u001b[0m\u001b[1;33m:\u001b[0m\u001b[1;33m\u001b[0m\u001b[1;33m\u001b[0m\u001b[0m\n",
      "\u001b[1;32m~\\AppData\\Local\\Continuum\\anaconda3\\lib\\site-packages\\urllib3\\packages\\six.py\u001b[0m in \u001b[0;36mreraise\u001b[1;34m(tp, value, tb)\u001b[0m\n\u001b[0;32m    684\u001b[0m         \u001b[1;32mif\u001b[0m \u001b[0mvalue\u001b[0m\u001b[1;33m.\u001b[0m\u001b[0m__traceback__\u001b[0m \u001b[1;32mis\u001b[0m \u001b[1;32mnot\u001b[0m \u001b[0mtb\u001b[0m\u001b[1;33m:\u001b[0m\u001b[1;33m\u001b[0m\u001b[1;33m\u001b[0m\u001b[0m\n\u001b[1;32m--> 685\u001b[1;33m             \u001b[1;32mraise\u001b[0m \u001b[0mvalue\u001b[0m\u001b[1;33m.\u001b[0m\u001b[0mwith_traceback\u001b[0m\u001b[1;33m(\u001b[0m\u001b[0mtb\u001b[0m\u001b[1;33m)\u001b[0m\u001b[1;33m\u001b[0m\u001b[1;33m\u001b[0m\u001b[0m\n\u001b[0m\u001b[0;32m    686\u001b[0m         \u001b[1;32mraise\u001b[0m \u001b[0mvalue\u001b[0m\u001b[1;33m\u001b[0m\u001b[1;33m\u001b[0m\u001b[0m\n",
      "\u001b[1;32m~\\AppData\\Local\\Continuum\\anaconda3\\lib\\site-packages\\urllib3\\connectionpool.py\u001b[0m in \u001b[0;36murlopen\u001b[1;34m(self, method, url, body, headers, retries, redirect, assert_same_host, timeout, pool_timeout, release_conn, chunked, body_pos, **response_kw)\u001b[0m\n\u001b[0;32m    599\u001b[0m                                                   \u001b[0mbody\u001b[0m\u001b[1;33m=\u001b[0m\u001b[0mbody\u001b[0m\u001b[1;33m,\u001b[0m \u001b[0mheaders\u001b[0m\u001b[1;33m=\u001b[0m\u001b[0mheaders\u001b[0m\u001b[1;33m,\u001b[0m\u001b[1;33m\u001b[0m\u001b[1;33m\u001b[0m\u001b[0m\n\u001b[1;32m--> 600\u001b[1;33m                                                   chunked=chunked)\n\u001b[0m\u001b[0;32m    601\u001b[0m \u001b[1;33m\u001b[0m\u001b[0m\n",
      "\u001b[1;32m~\\AppData\\Local\\Continuum\\anaconda3\\lib\\site-packages\\urllib3\\connectionpool.py\u001b[0m in \u001b[0;36m_make_request\u001b[1;34m(self, conn, method, url, timeout, chunked, **httplib_request_kw)\u001b[0m\n\u001b[0;32m    383\u001b[0m                     \u001b[1;31m# otherwise it looks like a programming error was the cause.\u001b[0m\u001b[1;33m\u001b[0m\u001b[1;33m\u001b[0m\u001b[1;33m\u001b[0m\u001b[0m\n\u001b[1;32m--> 384\u001b[1;33m                     \u001b[0msix\u001b[0m\u001b[1;33m.\u001b[0m\u001b[0mraise_from\u001b[0m\u001b[1;33m(\u001b[0m\u001b[0me\u001b[0m\u001b[1;33m,\u001b[0m \u001b[1;32mNone\u001b[0m\u001b[1;33m)\u001b[0m\u001b[1;33m\u001b[0m\u001b[1;33m\u001b[0m\u001b[0m\n\u001b[0m\u001b[0;32m    385\u001b[0m         \u001b[1;32mexcept\u001b[0m \u001b[1;33m(\u001b[0m\u001b[0mSocketTimeout\u001b[0m\u001b[1;33m,\u001b[0m \u001b[0mBaseSSLError\u001b[0m\u001b[1;33m,\u001b[0m \u001b[0mSocketError\u001b[0m\u001b[1;33m)\u001b[0m \u001b[1;32mas\u001b[0m \u001b[0me\u001b[0m\u001b[1;33m:\u001b[0m\u001b[1;33m\u001b[0m\u001b[1;33m\u001b[0m\u001b[0m\n",
      "\u001b[1;32m~\\AppData\\Local\\Continuum\\anaconda3\\lib\\site-packages\\urllib3\\packages\\six.py\u001b[0m in \u001b[0;36mraise_from\u001b[1;34m(value, from_value)\u001b[0m\n",
      "\u001b[1;32m~\\AppData\\Local\\Continuum\\anaconda3\\lib\\site-packages\\urllib3\\connectionpool.py\u001b[0m in \u001b[0;36m_make_request\u001b[1;34m(self, conn, method, url, timeout, chunked, **httplib_request_kw)\u001b[0m\n\u001b[0;32m    379\u001b[0m                 \u001b[1;32mtry\u001b[0m\u001b[1;33m:\u001b[0m\u001b[1;33m\u001b[0m\u001b[1;33m\u001b[0m\u001b[0m\n\u001b[1;32m--> 380\u001b[1;33m                     \u001b[0mhttplib_response\u001b[0m \u001b[1;33m=\u001b[0m \u001b[0mconn\u001b[0m\u001b[1;33m.\u001b[0m\u001b[0mgetresponse\u001b[0m\u001b[1;33m(\u001b[0m\u001b[1;33m)\u001b[0m\u001b[1;33m\u001b[0m\u001b[1;33m\u001b[0m\u001b[0m\n\u001b[0m\u001b[0;32m    381\u001b[0m                 \u001b[1;32mexcept\u001b[0m \u001b[0mException\u001b[0m \u001b[1;32mas\u001b[0m \u001b[0me\u001b[0m\u001b[1;33m:\u001b[0m\u001b[1;33m\u001b[0m\u001b[1;33m\u001b[0m\u001b[0m\n",
      "\u001b[1;32m~\\AppData\\Local\\Continuum\\anaconda3\\lib\\http\\client.py\u001b[0m in \u001b[0;36mgetresponse\u001b[1;34m(self)\u001b[0m\n\u001b[0;32m   1320\u001b[0m             \u001b[1;32mtry\u001b[0m\u001b[1;33m:\u001b[0m\u001b[1;33m\u001b[0m\u001b[1;33m\u001b[0m\u001b[0m\n\u001b[1;32m-> 1321\u001b[1;33m                 \u001b[0mresponse\u001b[0m\u001b[1;33m.\u001b[0m\u001b[0mbegin\u001b[0m\u001b[1;33m(\u001b[0m\u001b[1;33m)\u001b[0m\u001b[1;33m\u001b[0m\u001b[1;33m\u001b[0m\u001b[0m\n\u001b[0m\u001b[0;32m   1322\u001b[0m             \u001b[1;32mexcept\u001b[0m \u001b[0mConnectionError\u001b[0m\u001b[1;33m:\u001b[0m\u001b[1;33m\u001b[0m\u001b[1;33m\u001b[0m\u001b[0m\n",
      "\u001b[1;32m~\\AppData\\Local\\Continuum\\anaconda3\\lib\\http\\client.py\u001b[0m in \u001b[0;36mbegin\u001b[1;34m(self)\u001b[0m\n\u001b[0;32m    295\u001b[0m         \u001b[1;32mwhile\u001b[0m \u001b[1;32mTrue\u001b[0m\u001b[1;33m:\u001b[0m\u001b[1;33m\u001b[0m\u001b[1;33m\u001b[0m\u001b[0m\n\u001b[1;32m--> 296\u001b[1;33m             \u001b[0mversion\u001b[0m\u001b[1;33m,\u001b[0m \u001b[0mstatus\u001b[0m\u001b[1;33m,\u001b[0m \u001b[0mreason\u001b[0m \u001b[1;33m=\u001b[0m \u001b[0mself\u001b[0m\u001b[1;33m.\u001b[0m\u001b[0m_read_status\u001b[0m\u001b[1;33m(\u001b[0m\u001b[1;33m)\u001b[0m\u001b[1;33m\u001b[0m\u001b[1;33m\u001b[0m\u001b[0m\n\u001b[0m\u001b[0;32m    297\u001b[0m             \u001b[1;32mif\u001b[0m \u001b[0mstatus\u001b[0m \u001b[1;33m!=\u001b[0m \u001b[0mCONTINUE\u001b[0m\u001b[1;33m:\u001b[0m\u001b[1;33m\u001b[0m\u001b[1;33m\u001b[0m\u001b[0m\n",
      "\u001b[1;32m~\\AppData\\Local\\Continuum\\anaconda3\\lib\\http\\client.py\u001b[0m in \u001b[0;36m_read_status\u001b[1;34m(self)\u001b[0m\n\u001b[0;32m    256\u001b[0m     \u001b[1;32mdef\u001b[0m \u001b[0m_read_status\u001b[0m\u001b[1;33m(\u001b[0m\u001b[0mself\u001b[0m\u001b[1;33m)\u001b[0m\u001b[1;33m:\u001b[0m\u001b[1;33m\u001b[0m\u001b[1;33m\u001b[0m\u001b[0m\n\u001b[1;32m--> 257\u001b[1;33m         \u001b[0mline\u001b[0m \u001b[1;33m=\u001b[0m \u001b[0mstr\u001b[0m\u001b[1;33m(\u001b[0m\u001b[0mself\u001b[0m\u001b[1;33m.\u001b[0m\u001b[0mfp\u001b[0m\u001b[1;33m.\u001b[0m\u001b[0mreadline\u001b[0m\u001b[1;33m(\u001b[0m\u001b[0m_MAXLINE\u001b[0m \u001b[1;33m+\u001b[0m \u001b[1;36m1\u001b[0m\u001b[1;33m)\u001b[0m\u001b[1;33m,\u001b[0m \u001b[1;34m\"iso-8859-1\"\u001b[0m\u001b[1;33m)\u001b[0m\u001b[1;33m\u001b[0m\u001b[1;33m\u001b[0m\u001b[0m\n\u001b[0m\u001b[0;32m    258\u001b[0m         \u001b[1;32mif\u001b[0m \u001b[0mlen\u001b[0m\u001b[1;33m(\u001b[0m\u001b[0mline\u001b[0m\u001b[1;33m)\u001b[0m \u001b[1;33m>\u001b[0m \u001b[0m_MAXLINE\u001b[0m\u001b[1;33m:\u001b[0m\u001b[1;33m\u001b[0m\u001b[1;33m\u001b[0m\u001b[0m\n",
      "\u001b[1;32m~\\AppData\\Local\\Continuum\\anaconda3\\lib\\socket.py\u001b[0m in \u001b[0;36mreadinto\u001b[1;34m(self, b)\u001b[0m\n\u001b[0;32m    588\u001b[0m             \u001b[1;32mtry\u001b[0m\u001b[1;33m:\u001b[0m\u001b[1;33m\u001b[0m\u001b[1;33m\u001b[0m\u001b[0m\n\u001b[1;32m--> 589\u001b[1;33m                 \u001b[1;32mreturn\u001b[0m \u001b[0mself\u001b[0m\u001b[1;33m.\u001b[0m\u001b[0m_sock\u001b[0m\u001b[1;33m.\u001b[0m\u001b[0mrecv_into\u001b[0m\u001b[1;33m(\u001b[0m\u001b[0mb\u001b[0m\u001b[1;33m)\u001b[0m\u001b[1;33m\u001b[0m\u001b[1;33m\u001b[0m\u001b[0m\n\u001b[0m\u001b[0;32m    590\u001b[0m             \u001b[1;32mexcept\u001b[0m \u001b[0mtimeout\u001b[0m\u001b[1;33m:\u001b[0m\u001b[1;33m\u001b[0m\u001b[1;33m\u001b[0m\u001b[0m\n",
      "\u001b[1;31mProtocolError\u001b[0m: ('Connection aborted.', TimeoutError(10060, 'A connection attempt failed because the connected party did not properly respond after a period of time, or established connection failed because connected host has failed to respond', None, 10060, None))",
      "\nDuring handling of the above exception, another exception occurred:\n",
      "\u001b[1;31mConnectionError\u001b[0m                           Traceback (most recent call last)",
      "\u001b[1;32m<ipython-input-15-6ef2e317a3e8>\u001b[0m in \u001b[0;36m<module>\u001b[1;34m\u001b[0m\n\u001b[1;32m----> 1\u001b[1;33m \u001b[0mcourse_webpage\u001b[0m \u001b[1;33m=\u001b[0m \u001b[0mstr\u001b[0m\u001b[1;33m(\u001b[0m\u001b[0mrequests\u001b[0m\u001b[1;33m.\u001b[0m\u001b[0mget\u001b[0m\u001b[1;33m(\u001b[0m\u001b[1;34m\"http://www.datasciencecourse.org/2016\"\u001b[0m\u001b[1;33m)\u001b[0m\u001b[1;33m.\u001b[0m\u001b[0mcontent\u001b[0m\u001b[1;33m)\u001b[0m\u001b[1;33m\u001b[0m\u001b[1;33m\u001b[0m\u001b[0m\n\u001b[0m",
      "\u001b[1;32m~\\AppData\\Local\\Continuum\\anaconda3\\lib\\site-packages\\requests\\api.py\u001b[0m in \u001b[0;36mget\u001b[1;34m(url, params, **kwargs)\u001b[0m\n\u001b[0;32m     73\u001b[0m \u001b[1;33m\u001b[0m\u001b[0m\n\u001b[0;32m     74\u001b[0m     \u001b[0mkwargs\u001b[0m\u001b[1;33m.\u001b[0m\u001b[0msetdefault\u001b[0m\u001b[1;33m(\u001b[0m\u001b[1;34m'allow_redirects'\u001b[0m\u001b[1;33m,\u001b[0m \u001b[1;32mTrue\u001b[0m\u001b[1;33m)\u001b[0m\u001b[1;33m\u001b[0m\u001b[1;33m\u001b[0m\u001b[0m\n\u001b[1;32m---> 75\u001b[1;33m     \u001b[1;32mreturn\u001b[0m \u001b[0mrequest\u001b[0m\u001b[1;33m(\u001b[0m\u001b[1;34m'get'\u001b[0m\u001b[1;33m,\u001b[0m \u001b[0murl\u001b[0m\u001b[1;33m,\u001b[0m \u001b[0mparams\u001b[0m\u001b[1;33m=\u001b[0m\u001b[0mparams\u001b[0m\u001b[1;33m,\u001b[0m \u001b[1;33m**\u001b[0m\u001b[0mkwargs\u001b[0m\u001b[1;33m)\u001b[0m\u001b[1;33m\u001b[0m\u001b[1;33m\u001b[0m\u001b[0m\n\u001b[0m\u001b[0;32m     76\u001b[0m \u001b[1;33m\u001b[0m\u001b[0m\n\u001b[0;32m     77\u001b[0m \u001b[1;33m\u001b[0m\u001b[0m\n",
      "\u001b[1;32m~\\AppData\\Local\\Continuum\\anaconda3\\lib\\site-packages\\requests\\api.py\u001b[0m in \u001b[0;36mrequest\u001b[1;34m(method, url, **kwargs)\u001b[0m\n\u001b[0;32m     58\u001b[0m     \u001b[1;31m# cases, and look like a memory leak in others.\u001b[0m\u001b[1;33m\u001b[0m\u001b[1;33m\u001b[0m\u001b[1;33m\u001b[0m\u001b[0m\n\u001b[0;32m     59\u001b[0m     \u001b[1;32mwith\u001b[0m \u001b[0msessions\u001b[0m\u001b[1;33m.\u001b[0m\u001b[0mSession\u001b[0m\u001b[1;33m(\u001b[0m\u001b[1;33m)\u001b[0m \u001b[1;32mas\u001b[0m \u001b[0msession\u001b[0m\u001b[1;33m:\u001b[0m\u001b[1;33m\u001b[0m\u001b[1;33m\u001b[0m\u001b[0m\n\u001b[1;32m---> 60\u001b[1;33m         \u001b[1;32mreturn\u001b[0m \u001b[0msession\u001b[0m\u001b[1;33m.\u001b[0m\u001b[0mrequest\u001b[0m\u001b[1;33m(\u001b[0m\u001b[0mmethod\u001b[0m\u001b[1;33m=\u001b[0m\u001b[0mmethod\u001b[0m\u001b[1;33m,\u001b[0m \u001b[0murl\u001b[0m\u001b[1;33m=\u001b[0m\u001b[0murl\u001b[0m\u001b[1;33m,\u001b[0m \u001b[1;33m**\u001b[0m\u001b[0mkwargs\u001b[0m\u001b[1;33m)\u001b[0m\u001b[1;33m\u001b[0m\u001b[1;33m\u001b[0m\u001b[0m\n\u001b[0m\u001b[0;32m     61\u001b[0m \u001b[1;33m\u001b[0m\u001b[0m\n\u001b[0;32m     62\u001b[0m \u001b[1;33m\u001b[0m\u001b[0m\n",
      "\u001b[1;32m~\\AppData\\Local\\Continuum\\anaconda3\\lib\\site-packages\\requests\\sessions.py\u001b[0m in \u001b[0;36mrequest\u001b[1;34m(self, method, url, params, data, headers, cookies, files, auth, timeout, allow_redirects, proxies, hooks, stream, verify, cert, json)\u001b[0m\n\u001b[0;32m    531\u001b[0m         }\n\u001b[0;32m    532\u001b[0m         \u001b[0msend_kwargs\u001b[0m\u001b[1;33m.\u001b[0m\u001b[0mupdate\u001b[0m\u001b[1;33m(\u001b[0m\u001b[0msettings\u001b[0m\u001b[1;33m)\u001b[0m\u001b[1;33m\u001b[0m\u001b[1;33m\u001b[0m\u001b[0m\n\u001b[1;32m--> 533\u001b[1;33m         \u001b[0mresp\u001b[0m \u001b[1;33m=\u001b[0m \u001b[0mself\u001b[0m\u001b[1;33m.\u001b[0m\u001b[0msend\u001b[0m\u001b[1;33m(\u001b[0m\u001b[0mprep\u001b[0m\u001b[1;33m,\u001b[0m \u001b[1;33m**\u001b[0m\u001b[0msend_kwargs\u001b[0m\u001b[1;33m)\u001b[0m\u001b[1;33m\u001b[0m\u001b[1;33m\u001b[0m\u001b[0m\n\u001b[0m\u001b[0;32m    534\u001b[0m \u001b[1;33m\u001b[0m\u001b[0m\n\u001b[0;32m    535\u001b[0m         \u001b[1;32mreturn\u001b[0m \u001b[0mresp\u001b[0m\u001b[1;33m\u001b[0m\u001b[1;33m\u001b[0m\u001b[0m\n",
      "\u001b[1;32m~\\AppData\\Local\\Continuum\\anaconda3\\lib\\site-packages\\requests\\sessions.py\u001b[0m in \u001b[0;36msend\u001b[1;34m(self, request, **kwargs)\u001b[0m\n\u001b[0;32m    644\u001b[0m \u001b[1;33m\u001b[0m\u001b[0m\n\u001b[0;32m    645\u001b[0m         \u001b[1;31m# Send the request\u001b[0m\u001b[1;33m\u001b[0m\u001b[1;33m\u001b[0m\u001b[1;33m\u001b[0m\u001b[0m\n\u001b[1;32m--> 646\u001b[1;33m         \u001b[0mr\u001b[0m \u001b[1;33m=\u001b[0m \u001b[0madapter\u001b[0m\u001b[1;33m.\u001b[0m\u001b[0msend\u001b[0m\u001b[1;33m(\u001b[0m\u001b[0mrequest\u001b[0m\u001b[1;33m,\u001b[0m \u001b[1;33m**\u001b[0m\u001b[0mkwargs\u001b[0m\u001b[1;33m)\u001b[0m\u001b[1;33m\u001b[0m\u001b[1;33m\u001b[0m\u001b[0m\n\u001b[0m\u001b[0;32m    647\u001b[0m \u001b[1;33m\u001b[0m\u001b[0m\n\u001b[0;32m    648\u001b[0m         \u001b[1;31m# Total elapsed time of the request (approximately)\u001b[0m\u001b[1;33m\u001b[0m\u001b[1;33m\u001b[0m\u001b[1;33m\u001b[0m\u001b[0m\n",
      "\u001b[1;32m~\\AppData\\Local\\Continuum\\anaconda3\\lib\\site-packages\\requests\\adapters.py\u001b[0m in \u001b[0;36msend\u001b[1;34m(self, request, stream, timeout, verify, cert, proxies)\u001b[0m\n\u001b[0;32m    496\u001b[0m \u001b[1;33m\u001b[0m\u001b[0m\n\u001b[0;32m    497\u001b[0m         \u001b[1;32mexcept\u001b[0m \u001b[1;33m(\u001b[0m\u001b[0mProtocolError\u001b[0m\u001b[1;33m,\u001b[0m \u001b[0msocket\u001b[0m\u001b[1;33m.\u001b[0m\u001b[0merror\u001b[0m\u001b[1;33m)\u001b[0m \u001b[1;32mas\u001b[0m \u001b[0merr\u001b[0m\u001b[1;33m:\u001b[0m\u001b[1;33m\u001b[0m\u001b[1;33m\u001b[0m\u001b[0m\n\u001b[1;32m--> 498\u001b[1;33m             \u001b[1;32mraise\u001b[0m \u001b[0mConnectionError\u001b[0m\u001b[1;33m(\u001b[0m\u001b[0merr\u001b[0m\u001b[1;33m,\u001b[0m \u001b[0mrequest\u001b[0m\u001b[1;33m=\u001b[0m\u001b[0mrequest\u001b[0m\u001b[1;33m)\u001b[0m\u001b[1;33m\u001b[0m\u001b[1;33m\u001b[0m\u001b[0m\n\u001b[0m\u001b[0;32m    499\u001b[0m \u001b[1;33m\u001b[0m\u001b[0m\n\u001b[0;32m    500\u001b[0m         \u001b[1;32mexcept\u001b[0m \u001b[0mMaxRetryError\u001b[0m \u001b[1;32mas\u001b[0m \u001b[0me\u001b[0m\u001b[1;33m:\u001b[0m\u001b[1;33m\u001b[0m\u001b[1;33m\u001b[0m\u001b[0m\n",
      "\u001b[1;31mConnectionError\u001b[0m: ('Connection aborted.', TimeoutError(10060, 'A connection attempt failed because the connected party did not properly respond after a period of time, or established connection failed because connected host has failed to respond', None, 10060, None))"
     ]
    }
   ],
   "source": [
    "course_webpage = str(requests.get(\"http://www.datasciencecourse.org/2016\").content)"
   ]
  },
  {
   "cell_type": "code",
   "execution_count": 1,
   "metadata": {},
   "outputs": [],
   "source": [
    "from requests import get\n",
    "from requests.exceptions import RequestException\n",
    "from contextlib import closing\n",
    "from bs4 import BeautifulSoup"
   ]
  },
  {
   "cell_type": "code",
   "execution_count": 2,
   "metadata": {},
   "outputs": [],
   "source": [
    "def simple_get(url):\n",
    "    \"\"\"\n",
    "    Attempts to get the content at `url` by making an HTTP GET request.\n",
    "    If the content-type of response is some kind of HTML/XML, return the\n",
    "    text content, otherwise return None.\n",
    "    \"\"\"\n",
    "    try:\n",
    "        with closing(get(url, stream=True)) as resp:\n",
    "            if is_good_response(resp):\n",
    "                return resp.content\n",
    "            else:\n",
    "                return None\n",
    "\n",
    "    except RequestException as e:\n",
    "        log_error('Error during requests to {0} : {1}'.format(url, str(e)))\n",
    "        return None\n",
    "\n",
    "\n",
    "def is_good_response(resp):\n",
    "    \"\"\"\n",
    "    Returns True if the response seems to be HTML, False otherwise.\n",
    "    \"\"\"\n",
    "    content_type = resp.headers['Content-Type'].lower()\n",
    "    return (resp.status_code == 200 \n",
    "            and content_type is not None \n",
    "            and content_type.find('html') > -1)\n",
    "\n",
    "\n",
    "def log_error(e):\n",
    "    \"\"\"\n",
    "    It is always a good idea to log errors. \n",
    "    This function just prints them, but you can\n",
    "    make it do anything.\n",
    "    \"\"\"\n",
    "    print(e)"
   ]
  },
  {
   "cell_type": "code",
   "execution_count": 4,
   "metadata": {},
   "outputs": [
    {
     "data": {
      "text/plain": [
       "38276"
      ]
     },
     "execution_count": 4,
     "metadata": {},
     "output_type": "execute_result"
    }
   ],
   "source": [
    "\n",
    "raw_html = simple_get('https://realpython.com/blog/')\n",
    "len(raw_html)"
   ]
  },
  {
   "cell_type": "code",
   "execution_count": 5,
   "metadata": {},
   "outputs": [
    {
     "data": {
      "text/plain": [
       "b'\\n<!doctype html>\\n<html lang=\"en\">\\n<head>\\n<link href=\"https://files.realpython.com\" rel=\"preconnect\">\\n<title>Python Tutorials \\xe2\\x80\\x93 Real Python</title>\\n<meta name=\"author\" content=\"Real Python\">\\n<meta name=\"description\" content=\"Learn Python online: Python tutorials for developers of all skill levels, Python books and courses, Python news, code examples, articles, and more.\">\\n<meta name=\"keywords\" content=\"\">\\n<meta charset=\"utf-8\">\\n<meta name=\"viewport\" content=\"width=device-width, initial-scale=1, shrink-to-fit=no\">\\n<link rel=\"stylesheet\" href=\"/static/gfonts/font.32be62914940.css\">\\n<link rel=\"stylesheet\" href=\"/static/realpython.min.0e2802036907.css\">\\n<link rel=\"canonical\" href=\"https://realpython.com/\">\\n<meta name=\"twitter:card\" content=\"summary\">\\n<meta property=\"twitter:image\" content=\"https://realpython.com/static/social-default-image.5e1aa4786b3a.png\">\\n<meta property=\"og:image\" content=\"https://realpython.com/static/social-default-image.5e1aa4786b3a.png\">\\n<meta name=\"twitter:creator\" content=\"@realpython\">\\n<meta name=\"twitter:site\" content=\"@realpython\">\\n<meta property=\"og:title\" content=\"Python Tutorials \\xe2\\x80\\x93 Real Python\">\\n<meta property=\"og:type\" content=\"article\">\\n<meta property=\"og:url\" content=\"https://realpython.com/\">\\n<meta property=\"og:description\" content=\"Learn Python online: Python tutorials for developers of all skill levels, Python books and courses, Python news, code examples, articles, and more.\">\\n<link href=\"/static/favicon.68cbf4197b0c.png\" rel=\"icon\">\\n<link href=\"https://realpython.com/atom.xml\" rel=\"alternate\" title=\"Real Python\" type=\"application/atom+xml\">\\n<link rel=\"manifest\" href=\"/manifest.json\">\\n<script>\\n  (function(i,s,o,g,r,a,m){i[\\'GoogleAnalyticsObject\\']=r;i[r]=i[r]||function(){\\n  (i[r].q=i[r].q||[]).push(arguments)},i[r].l=1*new Date();a=s.createElement(o),\\n  m=s.getElementsByTagName(o)[0];a.async=1;a.src=g;m.parentNode.insertBefore(a,m)\\n  })(window,document,\\'script\\',\\'//www.google-analytics.com/analytics.js\\',\\'ga\\');\\n\\n  ga(\\'create\\', \\'UA-35184939-1\\', \\'auto\\', {\\'allowLinker\\': true});\\n  \\n  \\n  ga(\\'send\\', \\'pageview\\');\\n  \\n</script>\\n</head>\\n<body>\\n<nav class=\"navbar fixed-top navbar-expand-lg navbar-dark flex-column\">\\n<div class=\"container flex-row\">\\n<a class=\"navbar-brand\" href=\"/\">\\n<img src=\"/static/real-python-logo.893c30edea53.svg\" height=\"40\" class=\"d-inline-block align-top\" alt=\"Real Python\">\\n</a>\\n<button class=\"navbar-toggler\" type=\"button\" data-toggle=\"collapse\" data-target=\"#navbarSupportedContent\" aria-controls=\"navbarSupportedContent\" aria-expanded=\"false\" aria-label=\"Toggle navigation\">\\n<span class=\"navbar-toggler-icon\"></span>\\n</button>\\n<div class=\"collapse navbar-collapse\" id=\"navbarSupportedContent\">\\n<ul class=\"navbar-nav mr-2 flex-fill\">\\n<li class=\"nav-item\">\\n<a class=\"nav-link\" href=\"/start-here/\">Start&nbsp;Here</a>\\n</li>\\n<li class=\"nav-item dropdown\">\\n<a class=\"nav-link dropdown-toggle\" href=\"#\" id=\"navbarDropdownLibrary\" role=\"button\" data-toggle=\"dropdown\" aria-haspopup=\"true\" aria-expanded=\"false\">\\n<span class=\"fa fa-graduation-cap\"></span> Learn Python\\n</a>\\n<div class=\"dropdown-menu\" aria-labelledby=\"navbarDropdownLibrary\">\\n<a class=\"dropdown-item\" href=\"/\" style=\"color: #ff7e73; line-height: 110%;\"><i class=\"fa fa-fw mr-1 fa-graduation-cap\"></i> Python Tutorials \\xe2\\x86\\x92<br><small class=\"text-secondary\">In-depth articles and tutorials</small></a>\\n<a class=\"dropdown-item\" href=\"/courses/\" style=\"color: #abe5b1; line-height: 110%;\"><i class=\"fa fa-fw mr-1 fa-film\"></i> Video Courses \\xe2\\x86\\x92<br><small class=\"text-secondary\">Step-by-step video lessons</small></a>\\n<a class=\"dropdown-item\" href=\"/quizzes/\" style=\"color: #abe0e5; line-height: 110%;\"><i class=\"fa fa-fw mr-1 fa-trophy\"></i> Quizzes \\xe2\\x86\\x92<br><small class=\"text-secondary\">Check your learning progress</small></a>\\n<a class=\"dropdown-item\" href=\"/learning-paths/\" style=\"color: #ffc873; line-height: 110%;\"><i class=\"fa fa-fw mr-1 fa-map-o\"></i> Learning Paths \\xe2\\x86\\x92<br><small class=\"text-secondary\">Guided study plans for accelerated learning</small></a>\\n<a class=\"dropdown-item\" href=\"/community/\" style=\"color: #e5c6ab; line-height: 110%;\"><i class=\"fa fa-fw mr-1 fa-slack\"></i> Community \\xe2\\x86\\x92<br><small class=\"text-secondary\">Learn with other Pythonistas</small></a>\\n<a class=\"dropdown-item pb-3\" href=\"/tutorials/all/\" style=\"color: #b8abe5; line-height: 110%;\"><i class=\"fa fa-fw mr-1 fa-tags\"></i> Topics \\xe2\\x86\\x92<br><small class=\"text-secondary\">Focus on a specific area or skill level</small></a>\\n<a class=\"dropdown-item border-top\" href=\"/account/join/\"><i class=\"fa fa-fw fa-star text-warning\"></i> Unlock All Content</a>\\n</div>\\n</li>\\n<li class=\"nav-item dropdown\">\\n<a class=\"nav-link dropdown-toggle\" href=\"#\" id=\"navbarDropdownBooksCourses\" role=\"button\" data-toggle=\"dropdown\" aria-haspopup=\"true\" aria-expanded=\"false\">\\nStore\\n</a>\\n<div class=\"dropdown-menu\" aria-labelledby=\"navbarDropdownBooksCourses\">\\n<a class=\"dropdown-item\" href=\"/account/join/\"><i class=\"fa fa-fw fa-star text-warning\"></i> RP Membership</a>\\n<a class=\"dropdown-item\" href=\"/products/python-basics-book/\">Python Basics Book</a>\\n<a class=\"dropdown-item\" href=\"/products/python-tricks-book/\">Python Tricks Book</a>\\n<a class=\"dropdown-item\" href=\"/products/real-python-course/\">The Real Python Course</a>\\n<a class=\"dropdown-item\" href=\"/products/managing-python-dependencies/\">Managing Python Dependencies</a>\\n<a class=\"dropdown-item\" href=\"/products/sublime-python/\">Sublime Text + Python Setup</a>\\n<a class=\"dropdown-item\" href=\"/products/pythonic-wallpapers/\">Pythonic Wallpapers Pack</a>\\n<a class=\"dropdown-item\" href=\"https://nerdlettering.com\" target=\"_blank\">Python Mugs, T-Shirts, and More</a>\\n<a class=\"dropdown-item\" href=\"https://www.pythonistacafe.com\" target=\"_blank\">Pythonista Cafe Community</a>\\n<a class=\"dropdown-item border-top\" href=\"/products/\">Browse All \\xc2\\xbb</a>\\n</div>\\n</li>\\n<li class=\"nav-item dropdown\">\\n<a class=\"nav-link dropdown-toggle\" href=\"#\" id=\"navbarDropdownMore\" role=\"button\" data-toggle=\"dropdown\" aria-haspopup=\"true\" aria-expanded=\"false\">\\nMore\\n</a>\\n<div class=\"dropdown-menu\" aria-labelledby=\"navbarDropdownMore\">\\n<a class=\"dropdown-item\" href=\"/newsletter/\">Python Newsletter</a>\\n<a class=\"dropdown-item\" href=\"/podcasts/rpp/\">Python Podcast</a>\\n<a class=\"dropdown-item\" href=\"https://www.pythonjobshq.com\" target=\"_blank\">Python Job Board</a>\\n<a class=\"dropdown-item\" href=\"/team/\">Meet the Team</a>\\n<a class=\"dropdown-item\" href=\"/write-for-us/\">Become a Tutorial Author</a>\\n<a class=\"dropdown-item\" href=\"/become-an-instructor/\">Become a Video Instructor</a>\\n</div>\\n</li>\\n</ul>\\n<div class=\"d-block d-xl-none\">\\n<ul class=\"navbar-nav\">\\n<li class=\"nav-item\">\\n<a class=\"nav-link\" href=\"/search\" title=\"Search\"><span class=\"d-block d-lg-none\"><i class=\"fa fa-search\"></i> Search</span><span class=\"d-none d-lg-block\"><i class=\"fa fa-search\"></i></span></a>\\n</li>\\n</ul>\\n</div>\\n<div class=\"d-none d-xl-block\">\\n<form class=\"form-inline my-2 my-lg-0 mr-2 flex-fill\" action=\"/search\" method=\"GET\">\\n<input class=\"search-field form-control form-control-md mr-sm-1 mr-lg-2 w-100\" type=\"search\" placeholder=\"Search&hellip;\" aria-label=\"Search\" name=\"q\">\\n</form>\\n</div>\\n<ul class=\"navbar-nav\">\\n<li class=\"nav-item form-inline\">\\n<a class=\"ml-2 ml-lg-0 btn btn-sm btn-primary px-3\" href=\"/account/join/\">Join</a>\\n</li>\\n<li class=\"nav-item\">\\n<a class=\"btn text-light\" href=\"/account/login/\">Sign&#8209;In</a>\\n</li>\\n</ul>\\n</div>\\n</div>\\n</nav>\\n<div class=\"container main-content\">\\n<div class=\"row\">\\n<div class=\"col-md-12 col-lg-8\">\\n<div class=\"row\">\\n<div class=\"col-12\">\\n<h1 class=\"mb-2 display-3\">Real Python Tutorials</h1>\\n</div>\\n<div class=\"col-12 mb-3\">\\n<div class=\"card border-0\">\\n<a href=\"/django-pytest-fixtures/\">\\n<div class=\"embed-responsive embed-responsive-16by9\">\\n<img class=\"card-img-top m-0 p-0 embed-responsive-item rounded\" style=\"object-fit: contain;\" src=\"https://files.realpython.com/media/How-to-Provide-Fixtures-for-Django-Models-in-Pytest_Watermarked.4d13d34bf9e8.jpg\" alt=\"How to Provide Test Fixtures for Django Models in Pytest\" width=\"1920\" height=\"1080\" srcset=\"https://robocrop.realpython.net/?url=https%3A//files.realpython.com/media/How-to-Provide-Fixtures-for-Django-Models-in-Pytest_Watermarked.4d13d34bf9e8.jpg&amp;w=480&amp;sig=df14a7fbf0e4ec9ea7d86fb5aba83e57e99f8763 480w, https://robocrop.realpython.net/?url=https%3A//files.realpython.com/media/How-to-Provide-Fixtures-for-Django-Models-in-Pytest_Watermarked.4d13d34bf9e8.jpg&amp;w=960&amp;sig=1286a96720994ea11ec9955800893d9e358f57bb 960w, https://files.realpython.com/media/How-to-Provide-Fixtures-for-Django-Models-in-Pytest_Watermarked.4d13d34bf9e8.jpg 1920w\" sizes=\"50vw\">\\n</div>\\n</a>\\n<div class=\"card-body m-0 p-0 pt-3\">\\n<a href=\"/django-pytest-fixtures/\">\\n<h2 class=\"card-title h2 my-0 py-0\">How to Provide Test Fixtures for Django Models in Pytest</h2>\\n</a>\\n<p class=\"my-1\">In this step-by-step tutorial, you&#39;ll learn how to use fixtures to simplify your testing in pytest. If you use Django, pytest fixtures can help you write tests that are painless to update and maintain even as you make changes to your models.</p>\\n<p class=\"card-text\">\\n<small class=\"text-muted\">\\n<span class=\"mr-2\">Apr 08, 2020</span>\\n<span class=\"ml-2 fa fa-tags\"></span>\\n<a href=\"/tutorials/django/\" class=\"badge badge-light text-muted\">django</a>\\n<a href=\"/tutorials/intermediate/\" class=\"badge badge-light text-muted\">intermediate</a>\\n<a href=\"/tutorials/testing/\" class=\"badge badge-light text-muted\">testing</a>\\n</small>\\n</p>\\n</div>\\n</div>\\n</div>\\n</div>\\n</div>\\n<div class=\"col-12 col-lg-4\">\\n<div class=\"row\">\\n<div class=\"col-12\">\\n<div class=\"card mb-3 bg-secondary\">\\n<form class=\"card-body\" action=\"/optins/process/\" method=\"post\">\\n<div class=\"form-group\">\\n<p class=\"h5 text-muted text-center\">\\xe2\\x80\\x94 FREE Email Series \\xe2\\x80\\x94</p>\\n<p class=\"h3 text-center\">\\xf0\\x9f\\x90\\x8d Python Tricks \\xf0\\x9f\\x92\\x8c</p>\\n<p><img class=\"img-fluid rounded\" src=\"/static/pytrick-dict-merge.4201a0125a5e.png\" width=\"738\" height=\"490\" alt=\"Python Tricks Dictionary Merge\"></p>\\n</div>\\n<div class=\"form-group\">\\n<input type=\"hidden\" name=\"csrfmiddlewaretoken\" value=\"55uV2REsQnfartbPOwWmhyLxOVEpdrTiRmm4W8M5S5DjEJBW7SIM1Hvn6ETNfN7r\">\\n<input type=\"hidden\" name=\"slug\" value=\"static-python-tricks-sidebar\">\\n<input type=\"email\" class=\"form-control form-control-md\" name=\"email\" placeholder=\"Email&hellip;\" required>\\n</div>\\n<button type=\"submit\" name=\"submit\" class=\"btn btn-primary btn-md btn-block\">Get Python Tricks \\xc2\\xbb</button>\\n<p class=\"mb-0 mt-2 text-muted text-center\">\\xf0\\x9f\\x94\\x92 No spam. Unsubscribe any time.</p>\\n</form>\\n</div>\\n</div>\\n<div class=\"col-12\">\\n<div class=\"sidebar-module sidebar-module-inset border\">\\n<p class=\"h4\"><a class=\"link-unstyled\" href=\"/tutorials/all/\">All Tutorial Topics</a></p>\\n<a href=\"/tutorials/advanced/\" class=\"badge badge-light text-muted\">advanced</a>\\n<a href=\"/tutorials/api/\" class=\"badge badge-light text-muted\">api</a>\\n<a href=\"/tutorials/basics/\" class=\"badge badge-light text-muted\">basics</a>\\n<a href=\"/tutorials/best-practices/\" class=\"badge badge-light text-muted\">best-practices</a>\\n<a href=\"/tutorials/community/\" class=\"badge badge-light text-muted\">community</a>\\n<a href=\"/tutorials/databases/\" class=\"badge badge-light text-muted\">databases</a>\\n<a href=\"/tutorials/data-science/\" class=\"badge badge-light text-muted\">data-science</a>\\n<a href=\"/tutorials/devops/\" class=\"badge badge-light text-muted\">devops</a>\\n<a href=\"/tutorials/django/\" class=\"badge badge-light text-muted\">django</a>\\n<a href=\"/tutorials/docker/\" class=\"badge badge-light text-muted\">docker</a>\\n<a href=\"/tutorials/flask/\" class=\"badge badge-light text-muted\">flask</a>\\n<a href=\"/tutorials/front-end/\" class=\"badge badge-light text-muted\">front-end</a>\\n<a href=\"/tutorials/intermediate/\" class=\"badge badge-light text-muted\">intermediate</a>\\n<a href=\"/tutorials/machine-learning/\" class=\"badge badge-light text-muted\">machine-learning</a>\\n<a href=\"/tutorials/python/\" class=\"badge badge-light text-muted\">python</a>\\n<a href=\"/tutorials/testing/\" class=\"badge badge-light text-muted\">testing</a>\\n<a href=\"/tutorials/tools/\" class=\"badge badge-light text-muted\">tools</a>\\n<a href=\"/tutorials/web-dev/\" class=\"badge badge-light text-muted\">web-dev</a>\\n<a href=\"/tutorials/web-scraping/\" class=\"badge badge-light text-muted\">web-scraping</a>\\n</div>\\n</div>\\n</div>\\n</div>\\n<div class=\"col-12\">\\n<div class=\"col-12 rounded p-0 w-100 mt-2 mb-4\" style=\"overflow:hidden;\">\\n<div style=\"display:block;position:relative;\">\\n<div style=\"display:block;width:100%;padding-top:12.5%;\"></div>\\n<div class=\"rpad\" data-unit=\"8x1\" style=\"position:absolute;left:0;top:0;right:0;bottom:0;overflow:hidden;\"></div>\\n</div>\\n</div>\\n</div>\\n<div class=\"col-12 col-md-6 col-lg-4 mb-5\">\\n<div class=\"card border-0\">\\n<a href=\"/courses/arduino-python/\">\\n<div class=\"embed-responsive embed-responsive-16by9\">\\n<img loading=\"lazy\" class=\"card-img-top m-0 p-0 embed-responsive-item rounded\" style=\"object-fit: contain;\" alt=\"Arduino With Python: How to Get Started\" src=\"https://files.realpython.com/media/Arduino-With-Python-How-to-Get-Started_Watermarked.67d3c045231b.jpg\" width=\"1920\" height=\"1080\" srcset=\"https://robocrop.realpython.net/?url=https%3A//files.realpython.com/media/Arduino-With-Python-How-to-Get-Started_Watermarked.67d3c045231b.jpg&amp;w=480&amp;sig=6a9a1c22ba22bf5920c6670a40939dc7830690f9 480w, https://robocrop.realpython.net/?url=https%3A//files.realpython.com/media/Arduino-With-Python-How-to-Get-Started_Watermarked.67d3c045231b.jpg&amp;w=960&amp;sig=ffb5253389a8bc3c6b002238de326504cefa0892 960w, https://files.realpython.com/media/Arduino-With-Python-How-to-Get-Started_Watermarked.67d3c045231b.jpg 1920w\" sizes=\"25vw\">\\n<div class=\"card-img-overlay d-flex align-items-center\">\\n<div class=\"mx-auto\">\\n<span class=\"text-light\" style=\"opacity: 0.90;\"><i class=\"fa fa-4x fa-play \"></i></span>\\n</div>\\n</div>\\n</div>\\n</a>\\n<div class=\"card-body m-0 p-0 mt-2\">\\n<a href=\"/courses/arduino-python/\">\\n<h2 class=\"card-title h4 my-0 py-0\">Arduino With Python: How to Get Started</h2>\\n</a>\\n<p class=\"card-text\">\\n<small class=\"text-muted\">\\n<span class=\"mr-2\">Apr 07, 2020</span>\\n<a href=\"/account/join/\"><i class=\"fa fa-star text-muted\"></i></a>\\n<span class=\"ml-2 fa fa-tags\"></span>\\n <a href=\"/tutorials/intermediate/\" class=\"badge badge-light text-muted\">intermediate</a>\\n<a href=\"/tutorials/python/\" class=\"badge badge-light text-muted\">python</a>\\n</small>\\n</p>\\n</div>\\n</div>\\n</div>\\n<div class=\"col-12 col-md-6 col-lg-4 mb-5\">\\n<div class=\"card border-0\">\\n<a href=\"/instagram-bot-python-instapy/\">\\n<div class=\"embed-responsive embed-responsive-16by9\">\\n<img loading=\"lazy\" class=\"card-img-top m-0 p-0 embed-responsive-item rounded\" style=\"object-fit: contain;\" alt=\"How to Make an Instagram Bot With Python and InstaPy\" src=\"https://files.realpython.com/media/How-to-Make-an-Instagram-Bot-With-InstaPy_Watermarked.0bce6603f368.jpg\" width=\"1920\" height=\"1080\" srcset=\"https://robocrop.realpython.net/?url=https%3A//files.realpython.com/media/How-to-Make-an-Instagram-Bot-With-InstaPy_Watermarked.0bce6603f368.jpg&amp;w=480&amp;sig=7da3eb8fbd3ec76295bc810f99c1dbece5d4bfd1 480w, https://robocrop.realpython.net/?url=https%3A//files.realpython.com/media/How-to-Make-an-Instagram-Bot-With-InstaPy_Watermarked.0bce6603f368.jpg&amp;w=960&amp;sig=c5790ac7cf28823ed7b71f07fd77bcffbf626971 960w, https://files.realpython.com/media/How-to-Make-an-Instagram-Bot-With-InstaPy_Watermarked.0bce6603f368.jpg 1920w\" sizes=\"25vw\">\\n</div>\\n</a>\\n<div class=\"card-body m-0 p-0 mt-2\">\\n<a href=\"/instagram-bot-python-instapy/\">\\n<h2 class=\"card-title h4 my-0 py-0\">How to Make an Instagram Bot With Python and InstaPy</h2>\\n</a>\\n<p class=\"card-text\">\\n<small class=\"text-muted\">\\n<span class=\"mr-2\">Apr 06, 2020</span>\\n<span class=\"ml-2 fa fa-tags\"></span>\\n<a href=\"/tutorials/intermediate/\" class=\"badge badge-light text-muted\">intermediate</a>\\n<a href=\"/tutorials/python/\" class=\"badge badge-light text-muted\">python</a>\\n</small>\\n</p>\\n</div>\\n</div>\\n</div>\\n<div class=\"col-12 col-md-6 col-lg-4 mb-5\">\\n<div class=\"card border-0\">\\n<a href=\"/linked-lists-python/\">\\n<div class=\"embed-responsive embed-responsive-16by9\">\\n<img loading=\"lazy\" class=\"card-img-top m-0 p-0 embed-responsive-item rounded\" style=\"object-fit: contain;\" alt=\"Linked Lists in Python: An Introduction\" src=\"https://files.realpython.com/media/Python-Linked-Lists-Guide_Watermarked.421631d9a615.jpg\" width=\"1920\" height=\"1080\" srcset=\"https://robocrop.realpython.net/?url=https%3A//files.realpython.com/media/Python-Linked-Lists-Guide_Watermarked.421631d9a615.jpg&amp;w=480&amp;sig=c67f587e9bc21ed241814a99c32ee4d1f6a0f95b 480w, https://robocrop.realpython.net/?url=https%3A//files.realpython.com/media/Python-Linked-Lists-Guide_Watermarked.421631d9a615.jpg&amp;w=960&amp;sig=3e57c39c11608d584f4f22d06c101c13b81adb91 960w, https://files.realpython.com/media/Python-Linked-Lists-Guide_Watermarked.421631d9a615.jpg 1920w\" sizes=\"25vw\">\\n</div>\\n</a>\\n<div class=\"card-body m-0 p-0 mt-2\">\\n<a href=\"/linked-lists-python/\">\\n<h2 class=\"card-title h4 my-0 py-0\">Linked Lists in Python: An Introduction</h2>\\n</a>\\n<p class=\"card-text\">\\n<small class=\"text-muted\">\\n<span class=\"mr-2\">Apr 01, 2020</span>\\n<span class=\"ml-2 fa fa-tags\"></span>\\n<a href=\"/tutorials/intermediate/\" class=\"badge badge-light text-muted\">intermediate</a>\\n<a href=\"/tutorials/python/\" class=\"badge badge-light text-muted\">python</a>\\n</small>\\n</p>\\n</div>\\n</div>\\n</div>\\n<div class=\"col-12 col-md-6 col-lg-4 mb-5\">\\n<div class=\"card border-0\">\\n<a href=\"/courses/python-is-identity-vs-equality/\">\\n<div class=\"embed-responsive embed-responsive-16by9\">\\n<img loading=\"lazy\" class=\"card-img-top m-0 p-0 embed-responsive-item rounded\" style=\"object-fit: contain;\" alt=\"Python Pit Stop\" src=\"https://files.realpython.com/media/Python-Pit-Stop-Articles_Red_Watermarked.868eed0ee07e.jpg\" width=\"1920\" height=\"1080\" srcset=\"https://robocrop.realpython.net/?url=https%3A//files.realpython.com/media/Python-Pit-Stop-Articles_Red_Watermarked.868eed0ee07e.jpg&amp;w=480&amp;sig=3c4eb5a1804c57381c819f5be851f3baeda8bec7 480w, https://robocrop.realpython.net/?url=https%3A//files.realpython.com/media/Python-Pit-Stop-Articles_Red_Watermarked.868eed0ee07e.jpg&amp;w=960&amp;sig=a5b41ed5e7e7ee9e4fc172ba77b513e619610a72 960w, https://files.realpython.com/media/Python-Pit-Stop-Articles_Red_Watermarked.868eed0ee07e.jpg 1920w\" sizes=\"25vw\">\\n<div class=\"card-img-overlay d-flex align-items-center\">\\n<div class=\"mx-auto\">\\n<span class=\"text-light\" style=\"opacity: 0.90;\"><i class=\"fa fa-4x fa-play \"></i></span>\\n</div>\\n</div>\\n</div>\\n</a>\\n<div class=\"card-body m-0 p-0 mt-2\">\\n<a href=\"/courses/python-is-identity-vs-equality/\">\\n<h2 class=\"card-title h4 my-0 py-0\">Comparing Python Objects the Right Way: &quot;is&quot; vs &quot;==&quot;</h2>\\n</a>\\n<p class=\"card-text\">\\n<small class=\"text-muted\">\\n<span class=\"mr-2\">Mar 31, 2020</span>\\n<a href=\"/account/join/\"><i class=\"fa fa-star text-muted\"></i></a>\\n<span class=\"ml-2 fa fa-tags\"></span>\\n<a href=\"/tutorials/best-practices/\" class=\"badge badge-light text-muted\">best-practices</a>\\n<a href=\"/tutorials/intermediate/\" class=\"badge badge-light text-muted\">intermediate</a>\\n<a href=\"/tutorials/python/\" class=\"badge badge-light text-muted\">python</a>\\n</small>\\n</p>\\n</div>\\n</div>\\n</div>\\n<div class=\"col-12 col-md-6 col-lg-4 mb-5\">\\n<div class=\"card border-0\">\\n<a href=\"/any-python/\">\\n<div class=\"embed-responsive embed-responsive-16by9\">\\n<img loading=\"lazy\" class=\"card-img-top m-0 p-0 embed-responsive-item rounded\" style=\"object-fit: contain;\" alt=\"Python Pit Stop\" src=\"https://files.realpython.com/media/Python-Pit-Stop-Articles_Red_Watermarked.868eed0ee07e.jpg\" width=\"1920\" height=\"1080\" srcset=\"https://robocrop.realpython.net/?url=https%3A//files.realpython.com/media/Python-Pit-Stop-Articles_Red_Watermarked.868eed0ee07e.jpg&amp;w=480&amp;sig=3c4eb5a1804c57381c819f5be851f3baeda8bec7 480w, https://robocrop.realpython.net/?url=https%3A//files.realpython.com/media/Python-Pit-Stop-Articles_Red_Watermarked.868eed0ee07e.jpg&amp;w=960&amp;sig=a5b41ed5e7e7ee9e4fc172ba77b513e619610a72 960w, https://files.realpython.com/media/Python-Pit-Stop-Articles_Red_Watermarked.868eed0ee07e.jpg 1920w\" sizes=\"25vw\">\\n</div>\\n</a>\\n<div class=\"card-body m-0 p-0 mt-2\">\\n<a href=\"/any-python/\">\\n<h2 class=\"card-title h4 my-0 py-0\">How to Use any() in Python</h2>\\n</a>\\n<p class=\"card-text\">\\n<small class=\"text-muted\">\\n<span class=\"mr-2\">Mar 30, 2020</span>\\n<span class=\"ml-2 fa fa-tags\"></span>\\n<a href=\"/tutorials/basics/\" class=\"badge badge-light text-muted\">basics</a>\\n<a href=\"/tutorials/python/\" class=\"badge badge-light text-muted\">python</a>\\n</small>\\n</p>\\n</div>\\n</div>\\n</div>\\n<div class=\"col-12 col-md-6 col-lg-4 mb-5\">\\n<div class=\"card border-0\">\\n<a href=\"/simpy-simulating-with-python/\">\\n<div class=\"embed-responsive embed-responsive-16by9\">\\n<img loading=\"lazy\" class=\"card-img-top m-0 p-0 embed-responsive-item rounded\" style=\"object-fit: contain;\" alt=\"SimPy: Simulating Real-World Processes With Python\" src=\"https://files.realpython.com/media/SimPy-Tutorial_Watermarked.75f57eed489c.jpg\" width=\"1920\" height=\"1080\" srcset=\"https://robocrop.realpython.net/?url=https%3A//files.realpython.com/media/SimPy-Tutorial_Watermarked.75f57eed489c.jpg&amp;w=480&amp;sig=728ecf1ee76afbdac2867771955c92b9a479a49a 480w, https://robocrop.realpython.net/?url=https%3A//files.realpython.com/media/SimPy-Tutorial_Watermarked.75f57eed489c.jpg&amp;w=960&amp;sig=7eb9438b9db6cbf31cc97c9081990b8260efd2e1 960w, https://files.realpython.com/media/SimPy-Tutorial_Watermarked.75f57eed489c.jpg 1920w\" sizes=\"25vw\">\\n</div>\\n</a>\\n<div class=\"card-body m-0 p-0 mt-2\">\\n<a href=\"/simpy-simulating-with-python/\">\\n<h2 class=\"card-title h4 my-0 py-0\">SimPy: Simulating Real-World Processes With Python</h2>\\n</a>\\n<p class=\"card-text\">\\n<small class=\"text-muted\">\\n<span class=\"mr-2\">Mar 25, 2020</span>\\n<span class=\"ml-2 fa fa-tags\"></span>\\n<a href=\"/tutorials/intermediate/\" class=\"badge badge-light text-muted\">intermediate</a>\\n<a href=\"/tutorials/tools/\" class=\"badge badge-light text-muted\">tools</a>\\n</small>\\n</p>\\n</div>\\n</div>\\n</div>\\n<div class=\"col-12 px-0\">\\n<div class=\"mx-3 py-5 mb-5 mt-0 alert alert-light border text-dark\">\\n<h2 class=\"text-center h1 mt-0 mb-3\"><mark class=\"marker-highlight\" markdown=1>Not Sure Where to Start?</mark></h2>\\n<p class=\"lead text-center\">At <strong>Real Python</strong> you can learn all things Python from the ground up. If you&rsquo;re wondering where to begin your Python journey, click the button below and we&rsquo;ll give you some guidance:<p>\\n<p class=\"text-center mt-4\"><a class=\"btn btn-primary btn-lg py-2\" href=\"/start-here/\">Start Your Python Journey \\xc2\\xbb</a></p>\\n</div>\\n</div>\\n<div class=\"col-12 col-md-6 col-lg-4 mb-5\">\\n<div class=\"card border-0\">\\n<a href=\"/courses/numpy-arange/\">\\n<div class=\"embed-responsive embed-responsive-16by9\">\\n<img loading=\"lazy\" class=\"card-img-top m-0 p-0 embed-responsive-item rounded\" style=\"object-fit: contain;\" alt=\"NumPy arange(): How to Use np.arange()\" src=\"https://files.realpython.com/media/How-to-Use-np.arange_Watermarked.90510080b8f3.jpg\" width=\"1920\" height=\"1080\" srcset=\"https://robocrop.realpython.net/?url=https%3A//files.realpython.com/media/How-to-Use-np.arange_Watermarked.90510080b8f3.jpg&amp;w=480&amp;sig=23e94c1adac87cb040efdfc2ed96048b52576d3c 480w, https://robocrop.realpython.net/?url=https%3A//files.realpython.com/media/How-to-Use-np.arange_Watermarked.90510080b8f3.jpg&amp;w=960&amp;sig=e193349bc1b22e2b4e2a9765c45531e27ccfd0c9 960w, https://files.realpython.com/media/How-to-Use-np.arange_Watermarked.90510080b8f3.jpg 1920w\" sizes=\"25vw\">\\n<div class=\"card-img-overlay d-flex align-items-center\">\\n<div class=\"mx-auto\">\\n<span class=\"text-light\" style=\"opacity: 0.90;\"><i class=\"fa fa-4x fa-play \"></i></span>\\n</div>\\n</div>\\n</div>\\n</a>\\n<div class=\"card-body m-0 p-0 mt-2\">\\n<a href=\"/courses/numpy-arange/\">\\n<h2 class=\"card-title h4 my-0 py-0\">Using NumPy&#39;s np.arange() Effectively</h2>\\n</a>\\n<p class=\"card-text\">\\n<small class=\"text-muted\">\\n<span class=\"mr-2\">Mar 24, 2020</span>\\n<a href=\"/account/join/\"><i class=\"fa fa-star text-muted\"></i></a>\\n<span class=\"ml-2 fa fa-tags\"></span>\\n<a href=\"/tutorials/data-science/\" class=\"badge badge-light text-muted\">data-science</a>\\n<a href=\"/tutorials/intermediate/\" class=\"badge badge-light text-muted\">intermediate</a>\\n</small>\\n</p>\\n</div>\\n</div>\\n</div>\\n<div class=\"col-12 col-md-6 col-lg-4 mb-5\">\\n<div class=\"card border-0\">\\n<a href=\"/python-math-module/\">\\n<div class=\"embed-responsive embed-responsive-16by9\">\\n<img loading=\"lazy\" class=\"card-img-top m-0 p-0 embed-responsive-item rounded\" style=\"object-fit: contain;\" alt=\"The Python math Module: Everything You Need to Know\" src=\"https://files.realpython.com/media/Pythons-Math-Module-Guide_Watermarked.c882e267cbd0.jpg\" width=\"1920\" height=\"1080\" srcset=\"https://robocrop.realpython.net/?url=https%3A//files.realpython.com/media/Pythons-Math-Module-Guide_Watermarked.c882e267cbd0.jpg&amp;w=480&amp;sig=d1e48425016943c8b1e8c34bd75b3472271cfe37 480w, https://robocrop.realpython.net/?url=https%3A//files.realpython.com/media/Pythons-Math-Module-Guide_Watermarked.c882e267cbd0.jpg&amp;w=960&amp;sig=cf3c4e4284c8a41b96a8957663e926044e8b834f 960w, https://files.realpython.com/media/Pythons-Math-Module-Guide_Watermarked.c882e267cbd0.jpg 1920w\" sizes=\"25vw\">\\n</div>\\n</a>\\n<div class=\"card-body m-0 p-0 mt-2\">\\n<a href=\"/python-math-module/\">\\n<h2 class=\"card-title h4 my-0 py-0\">The Python math Module: Everything You Need to Know</h2>\\n</a>\\n<p class=\"card-text\">\\n<small class=\"text-muted\">\\n<span class=\"mr-2\">Mar 23, 2020</span>\\n<span class=\"ml-2 fa fa-tags\"></span>\\n<a href=\"/tutorials/intermediate/\" class=\"badge badge-light text-muted\">intermediate</a>\\n<a href=\"/tutorials/python/\" class=\"badge badge-light text-muted\">python</a>\\n</small>\\n</p>\\n</div>\\n</div>\\n</div>\\n<div class=\"col-12 col-md-6 col-lg-4 mb-5\">\\n<div class=\"card border-0\">\\n<a href=\"/real-python-podcast-launch/\">\\n<div class=\"embed-responsive embed-responsive-16by9\">\\n<img loading=\"lazy\" class=\"card-img-top m-0 p-0 embed-responsive-item rounded\" style=\"object-fit: contain;\" alt=\"The Real Python Podcast\" src=\"https://files.realpython.com/media/Real-Python-Podcast_Watermarked.381c56395b3d.jpg\" width=\"1920\" height=\"1080\" srcset=\"https://robocrop.realpython.net/?url=https%3A//files.realpython.com/media/Real-Python-Podcast_Watermarked.381c56395b3d.jpg&amp;w=480&amp;sig=64612e3951cb2949631793db3c1214b58a95aa7f 480w, https://robocrop.realpython.net/?url=https%3A//files.realpython.com/media/Real-Python-Podcast_Watermarked.381c56395b3d.jpg&amp;w=960&amp;sig=b7c15634cf639e8811e5895161dd8589eb1ec613 960w, https://files.realpython.com/media/Real-Python-Podcast_Watermarked.381c56395b3d.jpg 1920w\" sizes=\"25vw\">\\n</div>\\n</a>\\n<div class=\"card-body m-0 p-0 mt-2\">\\n<a href=\"/real-python-podcast-launch/\">\\n<h2 class=\"card-title h4 my-0 py-0\">The Real Python Podcast Is Here!</h2>\\n</a>\\n<p class=\"card-text\">\\n<small class=\"text-muted\">\\n<span class=\"mr-2\">Mar 20, 2020</span>\\n<span class=\"ml-2 fa fa-tags\"></span>\\n<a href=\"/tutorials/community/\" class=\"badge badge-light text-muted\">community</a>\\n</small>\\n</p>\\n</div>\\n</div>\\n</div>\\n<div class=\"col-12 col-md-6 col-lg-4 mb-5\">\\n<div class=\"card border-0\">\\n<a href=\"/python-scope-legb-rule/\">\\n<div class=\"embed-responsive embed-responsive-16by9\">\\n<img loading=\"lazy\" class=\"card-img-top m-0 p-0 embed-responsive-item rounded\" style=\"object-fit: contain;\" alt=\"Python Scope &amp; the LEGB Rule: Resolving Names in Your Code\" src=\"https://files.realpython.com/media/Scope-in-Python---LEGB-Rule_Watermarked.e5f68e7a3642.jpg\" width=\"1920\" height=\"1080\" srcset=\"https://robocrop.realpython.net/?url=https%3A//files.realpython.com/media/Scope-in-Python---LEGB-Rule_Watermarked.e5f68e7a3642.jpg&amp;w=480&amp;sig=8b1a91f8cffcd5c474a8696f16d8480c8757d074 480w, https://robocrop.realpython.net/?url=https%3A//files.realpython.com/media/Scope-in-Python---LEGB-Rule_Watermarked.e5f68e7a3642.jpg&amp;w=960&amp;sig=f11595e28a53a3f1c0a83ee0d43176af710fc355 960w, https://files.realpython.com/media/Scope-in-Python---LEGB-Rule_Watermarked.e5f68e7a3642.jpg 1920w\" sizes=\"25vw\">\\n</div>\\n</a>\\n<div class=\"card-body m-0 p-0 mt-2\">\\n<a href=\"/python-scope-legb-rule/\">\\n<h2 class=\"card-title h4 my-0 py-0\">Python Scope &amp; the LEGB Rule: Resolving Names in Your Code</h2>\\n</a>\\n<p class=\"card-text\">\\n<small class=\"text-muted\">\\n<span class=\"mr-2\">Mar 18, 2020</span>\\n<span class=\"ml-2 fa fa-tags\"></span>\\n<a href=\"/tutorials/intermediate/\" class=\"badge badge-light text-muted\">intermediate</a>\\n<a href=\"/tutorials/python/\" class=\"badge badge-light text-muted\">python</a>\\n</small>\\n</p>\\n</div>\\n</div>\\n</div>\\n<div class=\"col-12 col-md-6 col-lg-4 mb-5\">\\n<div class=\"card border-0\">\\n<a href=\"/courses/pygame-primer/\">\\n<div class=\"embed-responsive embed-responsive-16by9\">\\n<img loading=\"lazy\" class=\"card-img-top m-0 p-0 embed-responsive-item rounded\" style=\"object-fit: contain;\" alt=\"PyGame: A Primer on Game Programming in Python\" src=\"https://files.realpython.com/media/PyGame-Update_Watermarked.bb0aa2dfe80b.jpg\" width=\"1920\" height=\"1080\" srcset=\"https://robocrop.realpython.net/?url=https%3A//files.realpython.com/media/PyGame-Update_Watermarked.bb0aa2dfe80b.jpg&amp;w=480&amp;sig=09ce626c63d1e201b09c6cea67c018a87662dedd 480w, https://robocrop.realpython.net/?url=https%3A//files.realpython.com/media/PyGame-Update_Watermarked.bb0aa2dfe80b.jpg&amp;w=960&amp;sig=e66c0b7e59be1003d4ee7151425a9cf9e8179f29 960w, https://files.realpython.com/media/PyGame-Update_Watermarked.bb0aa2dfe80b.jpg 1920w\" sizes=\"25vw\">\\n<div class=\"card-img-overlay d-flex align-items-center\">\\n<div class=\"mx-auto\">\\n<span class=\"text-light\" style=\"opacity: 0.90;\"><i class=\"fa fa-4x fa-play \"></i></span>\\n</div>\\n</div>\\n</div>\\n</a>\\n<div class=\"card-body m-0 p-0 mt-2\">\\n<a href=\"/courses/pygame-primer/\">\\n<h2 class=\"card-title h4 my-0 py-0\">Make a 2D Side-Scroller Game With PyGame</h2>\\n</a>\\n<p class=\"card-text\">\\n<small class=\"text-muted\">\\n<span class=\"mr-2\">Mar 17, 2020</span>\\n<a href=\"/account/join/\"><i class=\"fa fa-star text-muted\"></i></a>\\n<span class=\"ml-2 fa fa-tags\"></span>\\n<a href=\"/tutorials/intermediate/\" class=\"badge badge-light text-muted\">intermediate</a>\\n</small>\\n</p>\\n</div>\\n</div>\\n</div>\\n<div class=\"col-12 col-md-6 col-lg-4 mb-5\">\\n<div class=\"card border-0\">\\n<a href=\"/binary-search-python/\">\\n<div class=\"embed-responsive embed-responsive-16by9\">\\n<img loading=\"lazy\" class=\"card-img-top m-0 p-0 embed-responsive-item rounded\" style=\"object-fit: contain;\" alt=\"How to Do a Binary Search in Python\" src=\"https://files.realpython.com/media/How-to-Do-a-Binary-Search-in-Python_Watermarked.e06f21f5a58b.jpg\" width=\"1920\" height=\"1080\" srcset=\"https://robocrop.realpython.net/?url=https%3A//files.realpython.com/media/How-to-Do-a-Binary-Search-in-Python_Watermarked.e06f21f5a58b.jpg&amp;w=480&amp;sig=0ecf4cf7367a8a5127b6f1c7385aae465a485690 480w, https://robocrop.realpython.net/?url=https%3A//files.realpython.com/media/How-to-Do-a-Binary-Search-in-Python_Watermarked.e06f21f5a58b.jpg&amp;w=960&amp;sig=44abf33718848650440e8da0f5f7d76f24a1ca36 960w, https://files.realpython.com/media/How-to-Do-a-Binary-Search-in-Python_Watermarked.e06f21f5a58b.jpg 1920w\" sizes=\"25vw\">\\n</div>\\n</a>\\n<div class=\"card-body m-0 p-0 mt-2\">\\n<a href=\"/binary-search-python/\">\\n<h2 class=\"card-title h4 my-0 py-0\">How to Do a Binary Search in Python</h2>\\n</a>\\n<p class=\"card-text\">\\n<small class=\"text-muted\">\\n<span class=\"mr-2\">Mar 16, 2020</span>\\n<span class=\"ml-2 fa fa-tags\"></span>\\n<a href=\"/tutorials/intermediate/\" class=\"badge badge-light text-muted\">intermediate</a>\\n<a href=\"/tutorials/python/\" class=\"badge badge-light text-muted\">python</a>\\n</small>\\n</p>\\n</div>\\n</div>\\n</div>\\n<div class=\"w-100\" ic-append-from=\"/api/v1/frontpage_tutorials/1584367200/\" ic-replace-target=\"true\" ic-trigger-on=\"scrolled-into-view\" ic-indicator=\"#indicator\">\\n<div class=\"text-center mb-4 text-dark\" style=\"display: none;\" id=\"indicator\"><img class=\"img-fluid mx-auto d-block rounded-circle fa-spin mb-2\" style=\"width: 4rem;\" src=\"https://files.realpython.com/media/real-python-logo-square.28474fda9228.png\" width=\"1500\" height=\"1500\" alt=\"Real Python Logo\"> Loading More Tutorials&hellip;</div>\\n</div>\\n<div class=\"col-12 mb-4\">\\n<div class=\"row\">\\n<div class=\"col-12 col-lg-8 mx-auto\">\\n<div class=\"card mt-4 mb-4 bg-secondary\">\\n<p class=\"card-header h3 text-center bg-light\">\\xf0\\x9f\\x90\\x8d Python Tricks \\xf0\\x9f\\x92\\x8c</p>\\n<div class=\"card-body\">\\n<div class=\"container\">\\n<div class=\"row\">\\n<div class=\"col-xs-12 col-sm-7\">\\n<p>Get a short &amp; sweet <strong>Python Trick</strong> delivered to your inbox every couple of days. No spam ever. Unsubscribe any time. Curated by the Real Python team.</p>\\n</div>\\n<div class=\"col-xs-12 col-sm-5\">\\n<img class=\"img-fluid rounded mb-3\" src=\"/static/pytrick-dict-merge.4201a0125a5e.png\" width=\"738\" height=\"490\" alt=\"Python Tricks Dictionary Merge\">\\n</div>\\n</div>\\n<div class=\"row mb-3\">\\n<form class=\"col-12\" action=\"/optins/process/\" method=\"post\">\\n<input type=\"hidden\" name=\"csrfmiddlewaretoken\" value=\"55uV2REsQnfartbPOwWmhyLxOVEpdrTiRmm4W8M5S5DjEJBW7SIM1Hvn6ETNfN7r\">\\n<input type=\"hidden\" name=\"slug\" value=\"static-python-tricks-footer\">\\n<div class=\"form-group\">\\n<input name=\"email\" type=\"email\" class=\"form-control form-control-lg\" placeholder=\"Email Address\" required>\\n</div>\\n<button name=\"submit\" type=\"submit\" class=\"btn btn-primary btn-lg btn-block\">Send Me Python Tricks \\xc2\\xbb</button>\\n</form>\\n</div>\\n</div>\\n</div>\\n</div>\\n</div>\\n</div>\\n</div>\\n</div>\\n</div>\\n<footer class=\"footer\">\\n<div class=\"container\">\\n<p class=\"text-center text-muted w-75 mx-auto\">\\xc2\\xa9 2012\\xe2\\x80\\x932020 Real Python&nbsp;\\xe2\\x8b\\x85 <a href=\"/newsletter/\">Newsletter</a>&nbsp;\\xe2\\x8b\\x85 <a href=\"/podcasts/rpp/\">Podcast</a>&nbsp;\\xe2\\x8b\\x85 <a href=\"https://www.youtube.com/realpython\">YouTube</a>&nbsp;\\xe2\\x8b\\x85 <a href=\"https://twitter.com/realpython\">Twitter</a>&nbsp;\\xe2\\x8b\\x85 <a href=\"https://facebook.com/LearnRealPython\">Facebook</a>&nbsp;\\xe2\\x8b\\x85 <a href=\"https://www.instagram.com/realpython/\">Instagram</a>&nbsp;\\xe2\\x8b\\x85 <a href=\"/\">Python&nbsp;Tutorials</a>&nbsp;\\xe2\\x8b\\x85 <a href=\"/search\">Search</a>&nbsp;\\xe2\\x8b\\x85 <a href=\"/privacy-policy/\">Privacy Policy</a>&nbsp;\\xe2\\x8b\\x85 <a href=\"/energy-policy/\" class=\"text-success active\">Energy Policy</a>&nbsp;\\xe2\\x8b\\x85 <a href=\"/sponsorships/\">Advertise</a>&nbsp;\\xe2\\x8b\\x85 <a href=\"/contact/\">Contact</a><br>\\xe2\\x9d\\xa4\\xef\\xb8\\x8f Happy Pythoning!</p>\\n</div>\\n</footer>\\n<script>\\n      (function(document, history, location) {\\n        var HISTORY_SUPPORT = !!(history && history.pushState);\\n\\n        var anchorScrolls = {\\n          ANCHOR_REGEX: /^#[^ ]+$/,\\n          OFFSET_HEIGHT_PX: 120,\\n\\n          /**\\n           * Establish events, and fix initial scroll position if a hash is provided.\\n           */\\n          init: function() {\\n            this.scrollToCurrent();\\n            window.addEventListener(\\'hashchange\\', this.scrollToCurrent.bind(this));\\n            document.body.addEventListener(\\'click\\', this.delegateAnchors.bind(this));\\n          },\\n\\n          /**\\n           * Return the offset amount to deduct from the normal scroll position.\\n           * Modify as appropriate to allow for dynamic calculations\\n           */\\n          getFixedOffset: function() {\\n            return this.OFFSET_HEIGHT_PX;\\n          },\\n\\n          /**\\n           * If the provided href is an anchor which resolves to an element on the\\n           * page, scroll to it.\\n           * @param  {String} href\\n           * @return {Boolean} - Was the href an anchor.\\n           */\\n          scrollIfAnchor: function(href, pushToHistory) {\\n            var match, rect, anchorOffset;\\n\\n            if(!this.ANCHOR_REGEX.test(href)) {\\n              return false;\\n            }\\n\\n            match = document.getElementById(href.slice(1));\\n\\n            if(match) {\\n              rect = match.getBoundingClientRect();\\n              anchorOffset = window.pageYOffset + rect.top - this.getFixedOffset();\\n              window.scrollTo(window.pageXOffset, anchorOffset);\\n\\n              // Add the state to history as-per normal anchor links\\n              if(HISTORY_SUPPORT && pushToHistory) {\\n                history.pushState({}, document.title, location.pathname + href);\\n              }\\n            }\\n\\n            return !!match;\\n          },\\n\\n          /**\\n           * Attempt to scroll to the current location\\'s hash.\\n           */\\n          scrollToCurrent: function() {\\n            this.scrollIfAnchor(window.location.hash);\\n          },\\n\\n          /**\\n           * If the click event\\'s target was an anchor, fix the scroll position.\\n           */\\n          delegateAnchors: function(e) {\\n            var elem = e.target;\\n\\n            if(\\n              elem.nodeName === \\'A\\' &&\\n              this.scrollIfAnchor(elem.getAttribute(\\'href\\'), true)\\n            ) {\\n              e.preventDefault();\\n            }\\n          }\\n        };\\n\\n        window.addEventListener(\\n          \\'DOMContentLoaded\\', anchorScrolls.init.bind(anchorScrolls)\\n        );\\n      })(window.document, window.history, window.location);\\n    </script>\\n<script src=\"/static/jquery.min.220afd743d9e.js\"></script>\\n<script src=\"/static/popper.min.1022eaf388cc.js\"></script>\\n<script src=\"/static/bootstrap.min.61f338f870fc.js\"></script>\\n<script src=\"/static/repl-toggle.366cb6d72340.js\"></script>\\n<script>window.rp_prop_id = \\'58946116052\\';</script>\\n<script src=\"https://srv.realpython.net/tag.js\" async></script>\\n<script src=\"/static/intercooler-1.2.1.min.4eb123408ef9.js\" async></script>\\n<script>\\n  var _dcq = _dcq || [];\\n  var _dcs = _dcs || {};\\n  _dcs.account = \\'6214500\\';\\n\\n  (function() {\\n    var dc = document.createElement(\\'script\\');\\n    dc.type = \\'text/javascript\\'; dc.async = true;\\n    dc.src = \\'//tag.getdrip.com/6214500.js\\';\\n    var s = document.getElementsByTagName(\\'script\\')[0];\\n    s.parentNode.insertBefore(dc, s);\\n  })();\\n</script>\\n<script>\\n  !function(f,b,e,v,n,t,s)\\n  {if(f.fbq)return;n=f.fbq=function(){n.callMethod?\\n  n.callMethod.apply(n,arguments):n.queue.push(arguments)};\\n  if(!f._fbq)f._fbq=n;n.push=n;n.loaded=!0;n.version=\\'2.0\\';\\n  n.queue=[];t=b.createElement(e);t.async=!0;\\n  t.src=v;s=b.getElementsByTagName(e)[0];\\n  s.parentNode.insertBefore(t,s)}(window, document,\\'script\\',\\n  \\'https://connect.facebook.net/en_US/fbevents.js\\');\\n  fbq(\\'init\\', \\'2220911568135371\\');\\n  fbq(\\'track\\', \\'PageView\\');\\n</script>\\n<noscript><img height=\"1\" width=\"1\" style=\"display:none\"\\n  src=\"https://www.facebook.com/tr?id=2220911568135371&ev=PageView&noscript=1\"\\n/></noscript>\\n</body>\\n</html>\\n'"
      ]
     },
     "execution_count": 5,
     "metadata": {},
     "output_type": "execute_result"
    }
   ],
   "source": [
    "raw_html"
   ]
  },
  {
   "cell_type": "code",
   "execution_count": 6,
   "metadata": {},
   "outputs": [],
   "source": [
    "no_html = simple_get('https://realpython.com/blog/nope-not-gonna-find-it')\n"
   ]
  },
  {
   "cell_type": "code",
   "execution_count": 7,
   "metadata": {},
   "outputs": [],
   "source": [
    "no_html"
   ]
  },
  {
   "cell_type": "code",
   "execution_count": null,
   "metadata": {},
   "outputs": [],
   "source": [
    "# Virtual Environments (\"virtualenvs\") keep\n",
    "# your project dependencies separated.\n",
    "# They help you avoid version conflicts\n",
    "# between packages and different versions\n",
    "# of the Python runtime.\n",
    "\n",
    "# Before creating & activating a virtualenv:\n",
    "# `python` and `pip` map to the system\n",
    "# version of the Python interpreter\n",
    "# (e.g. Python 2.7)\n",
    "$ which python\n",
    "/usr/local/bin/python\n",
    "\n",
    "# Let's create a fresh virtualenv using\n",
    "# another version of Python (Python 3):\n",
    "$ python3 -m venv ./venv\n",
    "\n",
    "# A virtualenv is just a \"Python\n",
    "# environment in a folder\":\n",
    "$ ls ./venv\n",
    "bin      include    lib      pyvenv.cfg\n",
    "\n",
    "# Activating a virtualenv configures the\n",
    "# current shell session to use the python\n",
    "# (and pip) commands from the virtualenv\n",
    "# folder instead of the global environment:\n",
    "$ source ./venv/bin/activate\n",
    "\n",
    "# Note how activating a virtualenv modifies\n",
    "# your shell prompt with a little note\n",
    "# showing the name of the virtualenv folder:\n",
    "(venv) $ echo \"wee!\"\n",
    "\n",
    "# With an active virtualenv, the `python`\n",
    "# command maps to the interpreter binary\n",
    "# *inside the active virtualenv*:\n",
    "(venv) $ which python\n",
    "/Users/dan/my-project/venv/bin/python3\n",
    "\n",
    "# Installing new libraries and frameworks\n",
    "# with `pip` now installs them *into the\n",
    "# virtualenv sandbox*, leaving your global\n",
    "# environment (and any other virtualenvs)\n",
    "# completely unmodified:\n",
    "(venv) $ pip install requests\n",
    "\n",
    "# To get back to the global Python\n",
    "# environment, run the following command:\n",
    "(venv) $ deactivate\n",
    "\n",
    "# (See how the prompt changed back\n",
    "# to \"normal\" again?)\n",
    "$ echo \"yay!\"\n",
    "\n",
    "# Deactivating the virtualenv flipped the\n",
    "# `python` and `pip` commands back to\n",
    "# the global environment:\n",
    "$ which python\n",
    "/usr/local/bin/python"
   ]
  }
 ],
 "metadata": {
  "kernelspec": {
   "display_name": "Python 3",
   "language": "python",
   "name": "python3"
  },
  "language_info": {
   "codemirror_mode": {
    "name": "ipython",
    "version": 3
   },
   "file_extension": ".py",
   "mimetype": "text/x-python",
   "name": "python",
   "nbconvert_exporter": "python",
   "pygments_lexer": "ipython3",
   "version": "3.7.4"
  }
 },
 "nbformat": 4,
 "nbformat_minor": 2
}
