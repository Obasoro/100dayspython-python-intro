{
 "cells": [
  {
   "cell_type": "code",
   "execution_count": 3,
   "metadata": {},
   "outputs": [
    {
     "name": "stdout",
     "output_type": "stream",
     "text": [
      "False value\n"
     ]
    }
   ],
   "source": [
    "seismic_a = [2, 4, 5, 7, 8, 20]\n",
    "\n",
    "seismic_b = [3, 6, 9, 12, 14, 15]\n",
    "\n",
    "if seismic_a > seismic_b:\n",
    "    print('The values are True')\n",
    "    \n",
    "else:\n",
    "    print('False value')"
   ]
  },
  {
   "cell_type": "code",
   "execution_count": 7,
   "metadata": {},
   "outputs": [
    {
     "name": "stdout",
     "output_type": "stream",
     "text": [
      "keep at Learning\n",
      "keep at Learning\n",
      "keep at Learning\n",
      "keep at Learning\n",
      "keep at Learning\n",
      "keep at Learning\n",
      "keep at Learning\n",
      "keep at Learning\n",
      "keep at Learning\n",
      "keep at Learning\n",
      "keep at Learning\n",
      "keep at Learning\n",
      "keep at Learning\n",
      "keep at Learning\n",
      "keep at Learning\n",
      "keep at Learning\n",
      "keep at Learning\n",
      "keep at Learning\n",
      "keep at Learning\n",
      "keep at Learning\n",
      "keep at Learning\n",
      "keep at Learning\n",
      "keep at Learning\n",
      "keep at Learning\n",
      "keep at Learning\n",
      "keep at Learning\n",
      "keep at Learning\n",
      "keep at Learning\n",
      "keep at Learning\n",
      "keep at Learning\n",
      "keep at Learning\n",
      "keep at Learning\n",
      "keep at Learning\n",
      "keep at Learning\n",
      "keep at Learning\n",
      "keep at Learning\n"
     ]
    }
   ],
   "source": [
    "for value in seismic_a:\n",
    "    for value in seismic_b:\n",
    "        if value in seismic_a > value in seismic_b:\n",
    "            print('You are learning Python')\n",
    "        \n",
    "        else:\n",
    "         print('keep at Learning')"
   ]
  },
  {
   "cell_type": "code",
   "execution_count": 16,
   "metadata": {},
   "outputs": [
    {
     "ename": "ValueError",
     "evalue": "too many values to unpack (expected 2)",
     "output_type": "error",
     "traceback": [
      "\u001b[1;31m---------------------------------------------------------------------------\u001b[0m",
      "\u001b[1;31mValueError\u001b[0m                                Traceback (most recent call last)",
      "\u001b[1;32m<ipython-input-16-02ed262db383>\u001b[0m in \u001b[0;36m<module>\u001b[1;34m\u001b[0m\n\u001b[0;32m      1\u001b[0m \u001b[0mb_name\u001b[0m \u001b[1;33m=\u001b[0m \u001b[1;33m{\u001b[0m\u001b[1;34m'first_name'\u001b[0m\u001b[1;33m:\u001b[0m \u001b[1;34m'Jemimah'\u001b[0m\u001b[1;33m,\u001b[0m \u001b[1;34m'Last_name'\u001b[0m\u001b[1;33m:\u001b[0m \u001b[1;34m'Obasoro'\u001b[0m\u001b[1;33m,\u001b[0m \u001b[1;34m'Birthday'\u001b[0m\u001b[1;33m:\u001b[0m \u001b[1;34m'23-05-2018'\u001b[0m\u001b[1;33m}\u001b[0m\u001b[1;33m\u001b[0m\u001b[1;33m\u001b[0m\u001b[0m\n\u001b[0;32m      2\u001b[0m \u001b[1;33m\u001b[0m\u001b[0m\n\u001b[1;32m----> 3\u001b[1;33m \u001b[1;32mfor\u001b[0m \u001b[0ma\u001b[0m\u001b[1;33m,\u001b[0m \u001b[0mb\u001b[0m \u001b[1;32min\u001b[0m \u001b[0mb_name\u001b[0m\u001b[1;33m:\u001b[0m\u001b[1;33m\u001b[0m\u001b[1;33m\u001b[0m\u001b[0m\n\u001b[0m\u001b[0;32m      4\u001b[0m     \u001b[0mprint\u001b[0m\u001b[1;33m(\u001b[0m\u001b[0ma\u001b[0m\u001b[1;33m.\u001b[0m\u001b[0mvalue\u001b[0m\u001b[1;33m,\u001b[0m \u001b[0mb\u001b[0m\u001b[1;33m.\u001b[0m\u001b[0mkeys\u001b[0m\u001b[1;33m)\u001b[0m\u001b[1;33m\u001b[0m\u001b[1;33m\u001b[0m\u001b[0m\n",
      "\u001b[1;31mValueError\u001b[0m: too many values to unpack (expected 2)"
     ]
    }
   ],
   "source": [
    "b_name = {'first_name': 'Jemimah', 'Last_name': 'Obasoro', 'Birthday': '23-05-2018'}\n",
    "\n",
    "for a, b in b_name:\n",
    "    print(a.value, b.keys)"
   ]
  },
  {
   "cell_type": "code",
   "execution_count": null,
   "metadata": {},
   "outputs": [],
   "source": []
  },
  {
   "cell_type": "code",
   "execution_count": null,
   "metadata": {},
   "outputs": [],
   "source": []
  }
 ],
 "metadata": {
  "kernelspec": {
   "display_name": "Python 3",
   "language": "python",
   "name": "python3"
  },
  "language_info": {
   "codemirror_mode": {
    "name": "ipython",
    "version": 3
   },
   "file_extension": ".py",
   "mimetype": "text/x-python",
   "name": "python",
   "nbconvert_exporter": "python",
   "pygments_lexer": "ipython3",
   "version": "3.7.4"
  }
 },
 "nbformat": 4,
 "nbformat_minor": 2
}
